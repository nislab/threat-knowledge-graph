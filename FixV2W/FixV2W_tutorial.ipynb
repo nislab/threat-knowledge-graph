{
 "cells": [
  {
   "cell_type": "markdown",
   "id": "f52ee33b",
   "metadata": {},
   "source": [
    "# Knowledge Graph Querying for Fixing invalid CVE-CWE mappings\n"
   ]
  },
  {
   "cell_type": "markdown",
   "id": "0f2e6b0d",
   "metadata": {},
   "source": [
    "In this tutorial, we will be providing the reader with the skills to process data (CVE,CWE and update history) and to run query functions on ampligraph that run on the pre-trained embedding models. \n"
   ]
  },
  {
   "cell_type": "code",
   "execution_count": 1,
   "id": "a08e067b",
   "metadata": {},
   "outputs": [],
   "source": [
    "import warnings\n",
    "warnings.filterwarnings(\"ignore\")\n",
    "import numpy as np\n",
    "import pandas as pd\n",
    "import ampligraph\n",
    "from ampligraph.discovery import query_topn\n",
    "from ampligraph.evaluation import evaluate_performance\n",
    "from ampligraph.evaluation import mr_score, mrr_score, hits_at_n_score"
   ]
  },
  {
   "cell_type": "markdown",
   "id": "2019ac39",
   "metadata": {},
   "source": [
    "First and foremost, we are starting with importing the libraries as well as restoring the model trained on the NVD data that represents nodes and relationships. The model has been trained with 39.000+ triples; in our training process, we use the Adam optimizer, Multiclass NLL (Negative log-likelihood) Loss and LP regularizer. These parameters can be changed if you're training your embedding model.\n"
   ]
  },
  {
   "cell_type": "code",
   "execution_count": 2,
   "id": "3f363127",
   "metadata": {},
   "outputs": [],
   "source": [
    "from ampligraph.latent_features import restore_model\n",
    "model_transe = restore_model('../files/kg_demo_model_transe_aug2021.pkl')\n",
    "#model_transe = restore_model('../files/kg_demo_model_distmult_aug2021.pkl')\n",
    "#model_transe = restore_model('../files/kg_demo_model_complex_aug2021.pkl')"
   ]
  },
  {
   "cell_type": "markdown",
   "id": "72756bfb",
   "metadata": {},
   "source": [
    "On top of the embedding model, we need some of the datasets so that we can process them to use relationships and create query sets. These datasets include the CWE View list, CWE Category list, and CWE relationships provided in the MITRE CWE website. CWE-1003 list is the subset of CWE used in root cause mappings of vulnerabilities in the NVD. NVD exclusively uses this list therefore all of our predictions are within this list to match the validation set.\n"
   ]
  },
  {
   "cell_type": "code",
   "execution_count": 3,
   "id": "b4a80c96",
   "metadata": {},
   "outputs": [],
   "source": [
    "cwe_view = pd.read_csv(\"../files/cwe_view.csv\")\n",
    "cwe_category = pd.read_csv(\"../files/cwe_category.csv\")\n",
    "cwe_rels = pd.read_csv(\"../files/cwe_relations.csv\")"
   ]
  },
  {
   "cell_type": "code",
   "execution_count": 4,
   "id": "63e0771b",
   "metadata": {},
   "outputs": [
    {
     "data": {
      "text/plain": [
       "Index(['CWE-ID', 'Weakness Abstraction'], dtype='object')"
      ]
     },
     "execution_count": 4,
     "metadata": {},
     "output_type": "execute_result"
    }
   ],
   "source": [
    "df_cwe_1003 = pd.read_csv(\"../files/cwe-1003.csv\", usecols = ['CWE-ID','Weakness Abstraction'], index_col=False)\n",
    "df_cwe_1003.fillna('*', inplace=True)\n",
    "df_cwe_1003.columns"
   ]
  },
  {
   "cell_type": "code",
   "execution_count": 5,
   "id": "4a16bf66",
   "metadata": {},
   "outputs": [],
   "source": [
    "cwe_1003 = df_cwe_1003['CWE-ID'].to_list()"
   ]
  },
  {
   "cell_type": "code",
   "execution_count": 6,
   "id": "d83be684",
   "metadata": {},
   "outputs": [],
   "source": [
    "views = []\n",
    "\n",
    "for i, item in cwe_view.iterrows():\n",
    "    views.append([item['ID'],item['Name'],item['Has_Member']])\n",
    "    \n",
    "categories = []\n",
    "\n",
    "for i, item in cwe_category.iterrows():\n",
    "    categories.append([item['ID'],item['Name'],item['Has_Member']])"
   ]
  },
  {
   "cell_type": "markdown",
   "id": "f21430ca",
   "metadata": {},
   "source": [
    "For the validation of our predictions, we use the updated mappings in the NVD. This dataset was obtained in December 2024 from the NVD archives. It can be updated using the script here []. #todo: add ref to the script\n",
    "\n",
    "Filtered query document provides the CWE items and the CVE's that these are mapped to. Created for ease of processing. \n"
   ]
  },
  {
   "cell_type": "code",
   "execution_count": 7,
   "id": "bc30a616",
   "metadata": {},
   "outputs": [],
   "source": [
    "new_cve_df = pd.read_csv('../files/cve2cwe_2024.csv')"
   ]
  },
  {
   "cell_type": "markdown",
   "id": "d4544c48",
   "metadata": {},
   "source": [
    "This tutorial works on the 'Discouraged' CWE correction, we also provide the filtered query files for the 'Prohibited' CWE correction that can be found in the same tutorial folder. You can replace the filenames (here or after Checkpoint #2."
   ]
  },
  {
   "cell_type": "code",
   "execution_count": 8,
   "id": "bf92e7a7",
   "metadata": {},
   "outputs": [],
   "source": [
    "df_query = pd.read_csv('../files/filtered_query_disc.csv', usecols = ['CWE','CVE'])"
   ]
  },
  {
   "cell_type": "code",
   "execution_count": 9,
   "id": "c941b772",
   "metadata": {},
   "outputs": [],
   "source": [
    "cwe_dict = {}\n",
    "for i, row in cwe_rels.iterrows():\n",
    "    child = row['Child']\n",
    "    parent = row['Parent']\n",
    "    rel = row['Relationship']\n",
    "    \n",
    "    if rel == 'ChildOf':\n",
    "        if child in cwe_dict:\n",
    "            cwe_dict[child].append(parent)\n",
    "        else:\n",
    "            cwe_dict[child] = []\n",
    "            cwe_dict[child].append(parent)"
   ]
  },
  {
   "cell_type": "code",
   "execution_count": 10,
   "id": "62b2b5bb",
   "metadata": {},
   "outputs": [],
   "source": [
    "# This is the first method I implemented to find family of the CWE. Usually, this yields a \n",
    "# large list of CWE that are related to each other, since we are returning the whole branch\n",
    "# that CWE is in. Rather, we can also just return direct parents and children (get_direct_family method). \n",
    "# Both are used for coarse and fine grain prediction evaluations.\n",
    "\n",
    "def get_cwe_parents(cwe):\n",
    "    #given a cwe, find all related cwe that are in the same branch.\n",
    "    family = []\n",
    "    \n",
    "    if cwe in cwe_dict:\n",
    "        # exists as key - has parents.\n",
    "        value = cwe_dict[cwe]\n",
    "        for item in value:\n",
    "            family.append(item)\n",
    "            res = get_cwe_family(item) #recursively reach boss parent\n",
    "            if res:\n",
    "                family.extend(res)\n",
    "    return family\n",
    "\n",
    "def get_cwe_children(cwe):\n",
    "    family = []\n",
    "    \n",
    "    if any(cwe in val for val in cwe_dict.values()):\n",
    "        keys = [key for key, value in cwe_dict.items() if cwe in value]\n",
    "        #print(keys)\n",
    "        family.extend(keys)\n",
    "        for item in keys:\n",
    "            res = get_cwe_children(item)  \n",
    "            if res:\n",
    "                family.extend(res)\n",
    "    return family\n",
    "    \n",
    "def get_cwe_family(cwe):\n",
    "    return set(get_cwe_parents(cwe) + get_cwe_children(cwe))\n",
    "\n",
    "def get_direct_family(cwe):\n",
    "    family = []\n",
    "    \n",
    "    if cwe in cwe_dict:\n",
    "        # exists as key - has parents.\n",
    "        value = cwe_dict[cwe]\n",
    "        for item in value:\n",
    "            family.append(item)\n",
    "    if any(cwe in val for val in cwe_dict.values()):\n",
    "        keys = [key for key, value in cwe_dict.items() if cwe in value]\n",
    "        #print(keys)\n",
    "        family.extend(keys)\n",
    "    return family"
   ]
  },
  {
   "cell_type": "code",
   "execution_count": 11,
   "id": "85ed7679",
   "metadata": {},
   "outputs": [],
   "source": [
    "def strtoList(string):\n",
    "    ret = []\n",
    "    arr = string.split(\"'\")\n",
    "    for i in arr:\n",
    "        if len(i)>3:\n",
    "            ret.append(i)\n",
    "    return ret"
   ]
  },
  {
   "cell_type": "markdown",
   "id": "8889d7e8",
   "metadata": {},
   "source": [
    "## Checkpoint 1: Running the queries for each CWE-CVE pair. "
   ]
  },
  {
   "cell_type": "markdown",
   "id": "b938cf3e",
   "metadata": {},
   "source": [
    "In this checkpoint you can run your own queries. \n",
    "BE AWARE that it will take a while to compute. On a CPU it took several hours to finish. Our test set includes 500+ queries.\n",
    "\n",
    "You can play with:\n",
    "- Model selection: We are using a pre-trained TransE model. Other options from our tutorials are DistMult or ComplEx. \n",
    "- Query top N: We query for top 10 results. This obviously cuts down on the accuracy, but larger numbers like 20 take much longer to compute and it may be impractical for the reviewer to sift through 20 suggestions compared to 10.\n",
    "- head, relation, tail: For our queries, we are looking at CVE-MatchingCWE-CWE triples. For other triples, these fields can be modified. \n",
    "- ents_to_consider: This set defines the initial subset of candidates your model will compute the scores for. If insufficient, the model can also look at other candidates, which happens if you provide a candidate set less than your N value (e.g. 10).\n",
    "- rels_to_consider: we do not use this option since our query is not for links but rather it's for nodes.\n"
   ]
  },
  {
   "cell_type": "code",
   "execution_count": null,
   "id": "a76edafb",
   "metadata": {},
   "outputs": [],
   "source": [
    "results = {}"
   ]
  },
  {
   "cell_type": "code",
   "execution_count": null,
   "id": "e5fbfbe8",
   "metadata": {},
   "outputs": [],
   "source": [
    "# Run this if it was not ran before - takes a while to compute\n",
    "\n",
    "for i, pair in df_query.iterrows():\n",
    "    cwe_q = pair['CWE']\n",
    "    cve_q = pair['CVE']\n",
    "    #print(cwe_q )#, \"CVE = \", cve_q)\n",
    "    child_cwes = get_cwe_children(cwe_q)\n",
    "    \n",
    "    for cve in strtoList(cve_q):\n",
    "        try:\n",
    "            res = query_topn(model_transe,10,head=cve,relation=\"MatchingCWE\", tail=None,\n",
    "                           ents_to_consider=child_cwes, rels_to_consider=None)\n",
    "            results[cve] = res\n",
    "            #print(res)\n",
    "        except:\n",
    "            pass"
   ]
  },
  {
   "cell_type": "markdown",
   "id": "e662562a",
   "metadata": {},
   "source": [
    "Export your results to a pickle file or to a csv file to avoid running the prev step for each time you run the rest of the tutorial. \n"
   ]
  },
  {
   "cell_type": "code",
   "execution_count": null,
   "id": "6fe140fe",
   "metadata": {},
   "outputs": [],
   "source": [
    "import pickle\n",
    "\n",
    "# Store data (serialize)\n",
    "with open('query_results.pickle', 'wb') as handle:\n",
    "    pickle.dump(results, handle, protocol=pickle.HIGHEST_PROTOCOL)"
   ]
  },
  {
   "cell_type": "code",
   "execution_count": null,
   "id": "8f668acf",
   "metadata": {},
   "outputs": [],
   "source": [
    "res_list = []\n",
    "\n",
    "for key in results:\n",
    "    \n",
    "    rank = results[key][0]\n",
    "    score = results[key][1]\n",
    "    res_list.append((key, rank,score))"
   ]
  },
  {
   "cell_type": "code",
   "execution_count": null,
   "id": "6a060895",
   "metadata": {},
   "outputs": [],
   "source": [
    "# Save the DataFrame to a CSV file\n",
    "df_res = pd.DataFrame(res_list, columns=['CVE','Rank','Score'])\n",
    "df_res.to_csv('cwe_disc_query.csv', index=False)"
   ]
  },
  {
   "cell_type": "markdown",
   "id": "54889d87",
   "metadata": {},
   "source": [
    "## Checkpoint 2: Evaluating the query results"
   ]
  },
  {
   "cell_type": "markdown",
   "id": "f00e339f",
   "metadata": {},
   "source": [
    "Start here and skip checkpoint 1 if you already have the results for the quer set. \n",
    "\n",
    "We continue with defining the discouraged CWE set and processing the query results to "
   ]
  },
  {
   "cell_type": "code",
   "execution_count": 12,
   "id": "e237a5aa",
   "metadata": {},
   "outputs": [],
   "source": [
    "df_res = pd.read_csv('../files/cwe_disc_query.csv')\n",
    "#df_res"
   ]
  },
  {
   "cell_type": "code",
   "execution_count": 13,
   "id": "6b7c22fc",
   "metadata": {},
   "outputs": [],
   "source": [
    "cwe_disc = [\"CWE-119\",\"CWE-20\",\"CWE-200\",\"CWE-269\",\"CWE-289\",\n",
    "\"CWE-311\",\"CWE-330\",\"CWE-345\",\"CWE-74\",\"CWE-400\",\"CWE-610\",\"CWE-662\",\n",
    "\"CWE-665\",\"CWE-668\",\"CWE-682\",\"CWE-697\",\"CWE-755\",\"CWE-834\"]"
   ]
  },
  {
   "cell_type": "code",
   "execution_count": 14,
   "id": "002319e1",
   "metadata": {},
   "outputs": [],
   "source": [
    "count = 0\n",
    "overall = 0\n",
    "disc = 0\n",
    "\n",
    "updated_cve = []\n",
    "missed_cve = []\n",
    "family_cve = []\n",
    "other_cve = []\n",
    "disc_cve = []\n",
    "\n",
    "for index, row in df_res.iterrows():\n",
    "    cve = row[\"CVE\"]\n",
    "    res = row[\"Rank\"].split('\\n')\n",
    "    scores = row[\"Score\"].split('\\n')\n",
    "    \n",
    "    row = new_cve_df.loc[new_cve_df[\"subject:START_ID\"] == cve]\n",
    "    cwe_match = row[\"object:END_ID\"].values\n",
    "    \n",
    "    for item in cwe_match:\n",
    "        overall +=1\n",
    "        cnt = 1\n",
    "        found = False\n",
    "        if item not in cwe_disc:\n",
    "            #now that we have an upadate match for this CVE, compare the results to the updated value\n",
    "            \n",
    "            for rank in res:\n",
    "                q = rank.split(\"'\")\n",
    "                cve = q[1]\n",
    "                cwe = q[5]\n",
    "                \n",
    "                if item == cwe:\n",
    "                    found = True\n",
    "                    break\n",
    "                cnt = cnt + 1\n",
    "                \n",
    "            if found: \n",
    "                updated_cve.append((cve, item, cnt))\n",
    "                count += 1\n",
    "            else:\n",
    "                # missed_cve.append(cve)\n",
    "                # In this case the exact CWE cannot be found among the top 10 predictions.\n",
    "                # So we do a coarse-grain match to see if parent/child CWE are predicted.\n",
    "                \n",
    "                fam = get_direct_family(item)\n",
    "                fam_all = get_cwe_family(item)\n",
    "                \n",
    "                for i in fam: \n",
    "                # find if the close family members are predicted by KG\n",
    "                    found = False\n",
    "                    cnt = 1\n",
    "                    for rank in res:\n",
    "                        q = rank.split(\"'\")\n",
    "                        cve = q[0]\n",
    "                        cwe = q[2]\n",
    "\n",
    "                        if i == cwe: # i is the cwe in family\n",
    "                            found = True\n",
    "                            break\n",
    "                        cnt = cnt + 1\n",
    "                    if found: \n",
    "                        missed_cve.append((cve, i, cnt))\n",
    "                    else:   \n",
    "                        for i in fam_all: \n",
    "                        # find if the biggg family members are predicted by KG\n",
    "                            found = False\n",
    "                            cnt = 1\n",
    "                            for rank in res:\n",
    "                                q = rank.split(\"'\")\n",
    "                                cve = q[1]\n",
    "                                cwe = q[5]\n",
    "\n",
    "                                if i == cwe: # i is the cwe in family\n",
    "                                    found = True\n",
    "                                    break\n",
    "                                cnt = cnt + 1\n",
    "                            if found: \n",
    "                                family_cve.append((cve, i, cnt))\n",
    "                            else:\n",
    "                                other_cve.append(cve)\n",
    "\n",
    "        else:\n",
    "            disc += 1\n",
    "            #print(item)\n",
    "            #print(res)\n",
    "            for rank in res:\n",
    "                q = rank.split(\"'\")\n",
    "                cve = q[1]\n",
    "                cwe = q[5]\n",
    "                \n",
    "                if item == cwe:\n",
    "                    found = True\n",
    "                    break\n",
    "                cnt = cnt + 1\n",
    "                \n",
    "            if found: \n",
    "                disc_cve.append((cve, item, cnt))\n",
    "                count += 1\n",
    "                \n",
    "            else:\n",
    "                other_cve.append(cve)"
   ]
  },
  {
   "cell_type": "markdown",
   "id": "7ba080b7",
   "metadata": {},
   "source": [
    "For our test set, we see that there are overall 1591 queries, of which 877 are mapped to discouraged (but still valid) CWE. 'count' is the number of CWE the model can predict among top 10 results. "
   ]
  },
  {
   "cell_type": "code",
   "execution_count": 15,
   "id": "b0620033",
   "metadata": {},
   "outputs": [
    {
     "name": "stdout",
     "output_type": "stream",
     "text": [
      "172 1591 877\n"
     ]
    }
   ],
   "source": [
    "print(count, overall, disc)"
   ]
  },
  {
   "cell_type": "markdown",
   "id": "109060d4",
   "metadata": {},
   "source": [
    "## Checkpoint 3"
   ]
  },
  {
   "cell_type": "code",
   "execution_count": 16,
   "id": "a5c32717",
   "metadata": {},
   "outputs": [],
   "source": [
    "# using df_cwe_cate or df_cwe_view for querying for CWEs in that list (that can be used to map CVEs i.e. in CWE-1003 list)\n",
    "\n",
    "def get_cwe_subtree(cweid):\n",
    "    cwe_ret = []\n",
    "    cwe_members = get_cwe_children(cweid)\n",
    "    for item in cwe_members:\n",
    "        if item in cwe_1003:\n",
    "            cwe_ret.append(item)\n",
    "    return cwe_ret"
   ]
  },
  {
   "cell_type": "code",
   "execution_count": 17,
   "id": "4c476d9a",
   "metadata": {},
   "outputs": [],
   "source": [
    "df_cve2cwe = pd.read_csv('../files/df_cve2cwe.csv', usecols = ['CVE','CWE'])\n",
    "#df_cve2cwe"
   ]
  },
  {
   "cell_type": "code",
   "execution_count": 18,
   "id": "12a8016a",
   "metadata": {},
   "outputs": [],
   "source": [
    "list_unpred = set()\n",
    "\n",
    "df = pd.DataFrame(columns = ['CVE','CWE'])\n",
    "\n",
    "for i in set(other_cve): # CVE for which we cannot predict CWE at top10 predictions\n",
    "    rows = df_cve2cwe.loc[df_cve2cwe['CVE']==i]\n",
    "    for idx,row in rows.iterrows():\n",
    "        #print(row)\n",
    "        cwe = row['CWE']\n",
    "        list_unpred.add(cwe)\n",
    "        df.loc[len(df)] = [i,cwe]"
   ]
  },
  {
   "cell_type": "markdown",
   "id": "faf574db",
   "metadata": {},
   "source": [
    "The next cell is to check for the mappings that the model could not correctly predict. We see if they had any members in the CWE-1003 list, if not, the model cannot predict the correct CWE for those. For all 101, we see that they had no members in the CWE-1003 list, therefore these will be excluded from the overall accuracy evaluations"
   ]
  },
  {
   "cell_type": "code",
   "execution_count": 19,
   "id": "7e0a1591",
   "metadata": {},
   "outputs": [
    {
     "name": "stdout",
     "output_type": "stream",
     "text": [
      "101 0 0\n"
     ]
    }
   ],
   "source": [
    "cnt_no = 0\n",
    "cnt_f = 0\n",
    "cnt = 0\n",
    "for item in list_unpred:\n",
    "    cwe_subtree = get_cwe_subtree(item)\n",
    "    #size = len(df.loc[df['CWE']==item])\n",
    "    \n",
    "    if len(cwe_subtree) == 0:\n",
    "        cnt_no += 1\n",
    "    elif len(cwe_subtree) < 5:\n",
    "        cnt_f += 1\n",
    "    else:\n",
    "        cnt+= 1\n",
    "        #print(item, len(cwe_subtree)) #none of them have members that are also in the CWE-1003 list. \n",
    "        \n",
    "print(cnt_no, cnt_f, cnt)      "
   ]
  },
  {
   "cell_type": "markdown",
   "id": "d52920d9",
   "metadata": {},
   "source": [
    "The following cell will give an error for the 'Discouraged' set since the array 'missed_cve' is empty. It can be run for the 'Prohibited' set's evaluation."
   ]
  },
  {
   "cell_type": "code",
   "execution_count": 24,
   "id": "3da13b4a",
   "metadata": {},
   "outputs": [
    {
     "ename": "IndexError",
     "evalue": "list index out of range",
     "output_type": "error",
     "traceback": [
      "\u001b[0;31m---------------------------------------------------------------------------\u001b[0m",
      "\u001b[0;31mIndexError\u001b[0m                                Traceback (most recent call last)",
      "\u001b[0;32m<ipython-input-24-69d1ea94e70c>\u001b[0m in \u001b[0;36m<module>\u001b[0;34m\u001b[0m\n\u001b[1;32m      1\u001b[0m \u001b[0muniq_fam\u001b[0m \u001b[0;34m=\u001b[0m \u001b[0;34m[\u001b[0m\u001b[0;34m]\u001b[0m\u001b[0;34m\u001b[0m\u001b[0;34m\u001b[0m\u001b[0m\n\u001b[0;32m----> 2\u001b[0;31m \u001b[0mprev\u001b[0m \u001b[0;34m=\u001b[0m \u001b[0mmissed_cve\u001b[0m\u001b[0;34m[\u001b[0m\u001b[0;36m0\u001b[0m\u001b[0;34m]\u001b[0m\u001b[0;34m[\u001b[0m\u001b[0;36m0\u001b[0m\u001b[0;34m]\u001b[0m\u001b[0;34m\u001b[0m\u001b[0;34m\u001b[0m\u001b[0m\n\u001b[0m\u001b[1;32m      3\u001b[0m \u001b[0mmindex\u001b[0m \u001b[0;34m=\u001b[0m \u001b[0;36m10\u001b[0m\u001b[0;34m\u001b[0m\u001b[0;34m\u001b[0m\u001b[0m\n\u001b[1;32m      4\u001b[0m \u001b[0mminpred\u001b[0m \u001b[0;34m=\u001b[0m \u001b[0;34m''\u001b[0m\u001b[0;34m\u001b[0m\u001b[0;34m\u001b[0m\u001b[0m\n\u001b[1;32m      5\u001b[0m \u001b[0;32mfor\u001b[0m \u001b[0mi\u001b[0m \u001b[0;32min\u001b[0m \u001b[0mmissed_cve\u001b[0m\u001b[0;34m:\u001b[0m \u001b[0;31m#family_cve for coarse, missed_cve for fine granularity\u001b[0m\u001b[0;34m\u001b[0m\u001b[0;34m\u001b[0m\u001b[0m\n",
      "\u001b[0;31mIndexError\u001b[0m: list index out of range"
     ]
    }
   ],
   "source": [
    "uniq_fam = []\n",
    "prev = missed_cve[0][0]\n",
    "mindex = 10\n",
    "minpred = ''\n",
    "for i in missed_cve: #family_cve for coarse, missed_cve for fine granularity\n",
    "    # Sometimes there are multiple matches for the same cve, since there are multiple CWE mappings\n",
    "    #print(i)\n",
    "\n",
    "    if i[0] == prev:\n",
    "        rank = i[2]\n",
    "        #print(rank)\n",
    "        if rank < mindex:\n",
    "            mindex = rank\n",
    "            minpred = i\n",
    "    else:\n",
    "        #print(minpred)\n",
    "        uniq_fam.append(minpred) #push prev min\n",
    "        \n",
    "        prev = i[0]\n",
    "        mindex = i[2]\n",
    "        minpred = i"
   ]
  },
  {
   "cell_type": "code",
   "execution_count": 25,
   "id": "f4922163",
   "metadata": {},
   "outputs": [],
   "source": [
    "prev = family_cve[0][0]\n",
    "uniq_fam2 = []\n",
    "mindex = 10\n",
    "minpred = ''\n",
    "for i in family_cve: #family_cve for coarse, missed_cve for fine granularity\n",
    "    # Sometimes there are multiple matches for the same cve, since there are multiple \n",
    "    #print(i)\n",
    "\n",
    "    if i[0] == prev:\n",
    "        rank = i[2]\n",
    "        #print(rank)\n",
    "        if rank < mindex:\n",
    "            mindex = rank\n",
    "            minpred = i\n",
    "    else:\n",
    "        #print(minpred)\n",
    "        uniq_fam2.append(minpred) #push prev min\n",
    "        \n",
    "        prev = i[0]\n",
    "        mindex = i[2]\n",
    "        minpred = i"
   ]
  },
  {
   "cell_type": "markdown",
   "id": "315f6896",
   "metadata": {},
   "source": [
    "Write results to output, again for 'Discouraged' set, skip writing df_miss, since it will result in an error."
   ]
  },
  {
   "cell_type": "code",
   "execution_count": 28,
   "id": "96b8f3a2",
   "metadata": {},
   "outputs": [],
   "source": [
    "df = pd.DataFrame(updated_cve, columns = ['CVE','CWE','Rank'])\n",
    "#df.to_csv('cve_disc_24.csv',index=False)"
   ]
  },
  {
   "cell_type": "code",
   "execution_count": 29,
   "id": "0c6926b3",
   "metadata": {},
   "outputs": [],
   "source": [
    "df_missFine = pd.DataFrame(uniq_fam, columns = ['CVE','CWE','Rank'])\n",
    "#df_missFine.to_csv('cve_finedisc_24.csv',index=False)"
   ]
  },
  {
   "cell_type": "code",
   "execution_count": 30,
   "id": "ae83ba96",
   "metadata": {},
   "outputs": [],
   "source": [
    "df_missCoarse = pd.DataFrame(uniq_fam2, columns = ['CVE','CWE','Rank'])\n",
    "#df_missCoarse.to_csv('cve_coarsedisc_24.csv',index=False)"
   ]
  },
  {
   "cell_type": "code",
   "execution_count": 33,
   "id": "80ba2a4f",
   "metadata": {},
   "outputs": [],
   "source": [
    "df_discPred = pd.DataFrame(disc_cve, columns = ['CVE','CWE','Rank']) # the updated value was discouraged for these\n",
    "#df_discpred.to_csv('cve_discdisc_24.csv',index=False)"
   ]
  },
  {
   "cell_type": "markdown",
   "id": "a5139288",
   "metadata": {},
   "source": [
    "## Checkpoint 4: Evaluation"
   ]
  },
  {
   "cell_type": "markdown",
   "id": "2bc6c5fc",
   "metadata": {},
   "source": [
    "Combine all results (exact match, fine grain and coarse grain) for evaluation. Then we'll use these for different plots. "
   ]
  },
  {
   "cell_type": "code",
   "execution_count": 35,
   "id": "66e086b8",
   "metadata": {},
   "outputs": [],
   "source": [
    "overall_df = pd.concat([df, df_missCoarse, df_discPred]) # add df_missFine when running eval for 'Prohibited'"
   ]
  },
  {
   "cell_type": "code",
   "execution_count": 36,
   "id": "8acc3439",
   "metadata": {},
   "outputs": [],
   "source": [
    "import matplotlib.pyplot as plt"
   ]
  },
  {
   "cell_type": "markdown",
   "id": "7dddfb71",
   "metadata": {},
   "source": [
    "ranks --> the exact match ranks"
   ]
  },
  {
   "cell_type": "code",
   "execution_count": 37,
   "id": "230638f5",
   "metadata": {},
   "outputs": [
    {
     "name": "stdout",
     "output_type": "stream",
     "text": [
      "1.0393700787401574 0.9803149606299213\n"
     ]
    }
   ],
   "source": [
    "ranks = df['Rank'].tolist()\n",
    "a = mr_score(ranks)\n",
    "b = mrr_score(ranks)\n",
    "print(a,b)"
   ]
  },
  {
   "cell_type": "markdown",
   "id": "27eadd8d",
   "metadata": {},
   "source": [
    "ranks2 --> the fine grain match ranks"
   ]
  },
  {
   "cell_type": "code",
   "execution_count": 38,
   "id": "ca86852e",
   "metadata": {},
   "outputs": [
    {
     "name": "stdout",
     "output_type": "stream",
     "text": [
      "nan nan\n"
     ]
    }
   ],
   "source": [
    "ranks2 = df_missFine['Rank'].tolist()\n",
    "a = mr_score(ranks2)\n",
    "b = mrr_score(ranks2)\n",
    "print(a,b)"
   ]
  },
  {
   "cell_type": "markdown",
   "id": "17c7095b",
   "metadata": {},
   "source": [
    "ranks3 --> the coarse grain ranks"
   ]
  },
  {
   "cell_type": "code",
   "execution_count": 39,
   "id": "27775a3a",
   "metadata": {},
   "outputs": [
    {
     "name": "stdout",
     "output_type": "stream",
     "text": [
      "1.4008097165991902 0.9016306792622583\n"
     ]
    }
   ],
   "source": [
    "ranks3 = df_missCoarse['Rank'].tolist()\n",
    "a = mr_score(ranks3)\n",
    "b = mrr_score(ranks3)\n",
    "print(a,b)"
   ]
  },
  {
   "cell_type": "code",
   "execution_count": 44,
   "id": "2d44fa0e",
   "metadata": {},
   "outputs": [
    {
     "name": "stdout",
     "output_type": "stream",
     "text": [
      "1.0 1.0\n"
     ]
    }
   ],
   "source": [
    "ranks4 = df_discPred['Rank'].tolist()\n",
    "a = mr_score(ranks4)\n",
    "b = mrr_score(ranks4)\n",
    "print(a,b)"
   ]
  },
  {
   "cell_type": "markdown",
   "id": "d3184914",
   "metadata": {},
   "source": [
    "The below plot shows the distribution of the ranks for all of the predicted CWE (exact, fine, coarse, and discouraged)"
   ]
  },
  {
   "cell_type": "code",
   "execution_count": 45,
   "id": "1095783d",
   "metadata": {},
   "outputs": [
    {
     "data": {
      "image/png": "[encoded data removed]",
      "text/plain": [
       "<Figure size 432x288 with 1 Axes>"
      ]
     },
     "metadata": {
      "needs_background": "light"
     },
     "output_type": "display_data"
    }
   ],
   "source": [
    "counts, edges, bars = plt.hist(ranks+ranks3+ranks4,rwidth=0.8, bins=[1, 2, 3, 4, 5, 6, 7, 8, 9, 10])\n",
    "plt.bar_label(bars)\n",
    "plt.xlabel(\"Rank\")\n",
    "plt.ylabel(\"Number of rank occurences\")\n",
    "plt.title(\"KG query top 10 CWE results for updated CVE (between 2021-2024)\")\n",
    "plt.show()"
   ]
  }
 ],
 "metadata": {
  "kernelspec": {
   "display_name": "Python 3",
   "language": "python",
   "name": "python3"
  },
  "language_info": {
   "codemirror_mode": {
    "name": "ipython",
    "version": 3
   },
   "file_extension": ".py",
   "mimetype": "text/x-python",
   "name": "python",
   "nbconvert_exporter": "python",
   "pygments_lexer": "ipython3",
   "version": "3.7.10"
  }
 },
 "nbformat": 4,
 "nbformat_minor": 5
}
