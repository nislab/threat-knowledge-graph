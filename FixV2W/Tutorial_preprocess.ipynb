{
 "cells": [
  {
   "cell_type": "code",
   "execution_count": 1,
   "id": "4cde5a96",
   "metadata": {},
   "outputs": [
    {
     "name": "stdout",
     "output_type": "stream",
     "text": [
      "**** Missing build for a loaded module for Python version \"3.7.10\". \n",
      "Directory does not exist: /share/pkg.7/tensorflow/1.13.1/install/lib/site-packages/../python3.7/site-packages\n",
      "\n",
      "Defaulting to user installation because normal site-packages is not writeable\n",
      "Requirement already satisfied: ampligraph==1.4.0 in /usr3/graduate/sevvals/.local/lib/python3.7/site-packages (1.4.0)\n",
      "Requirement already satisfied: numpy>=1.14.3 in /share/pkg.7/python3/3.7.10/install/lib/python3.7/site-packages/numpy-1.19.5-py3.7-linux-x86_64.egg (from ampligraph==1.4.0) (1.19.5)\n",
      "Requirement already satisfied: pytest>=3.5.1 in /share/pkg.7/python3/3.7.10/install/lib/python3.7/site-packages (from ampligraph==1.4.0) (6.2.3)\n",
      "Requirement already satisfied: scikit-learn>=0.19.1 in /share/pkg.7/python3/3.7.10/install/lib/python3.7/site-packages (from ampligraph==1.4.0) (0.24.2)\n",
      "Requirement already satisfied: tqdm>=4.23.4 in /share/pkg.7/python3/3.7.10/install/lib/python3.7/site-packages (from ampligraph==1.4.0) (4.60.0)\n",
      "Requirement already satisfied: pandas>=0.23.1 in /share/pkg.7/python3/3.7.10/install/lib/python3.7/site-packages (from ampligraph==1.4.0) (1.2.4)\n",
      "Requirement already satisfied: sphinx<3,>=2.2 in /usr3/graduate/sevvals/.local/lib/python3.7/site-packages (from ampligraph==1.4.0) (2.4.5)\n",
      "Requirement already satisfied: recommonmark==0.4.0 in /usr3/graduate/sevvals/.local/lib/python3.7/site-packages (from ampligraph==1.4.0) (0.4.0)\n",
      "Requirement already satisfied: sphinx-rtd-theme==0.4.3 in /usr3/graduate/sevvals/.local/lib/python3.7/site-packages (from ampligraph==1.4.0) (0.4.3)\n",
      "Requirement already satisfied: sphinxcontrib-bibtex==0.4.2 in /usr3/graduate/sevvals/.local/lib/python3.7/site-packages (from ampligraph==1.4.0) (0.4.2)\n",
      "Requirement already satisfied: beautifultable>=0.7.0 in /usr3/graduate/sevvals/.local/lib/python3.7/site-packages (from ampligraph==1.4.0) (1.1.0)\n",
      "Requirement already satisfied: pyyaml>=3.13 in /share/pkg.7/python3/3.7.10/install/lib/python3.7/site-packages (from ampligraph==1.4.0) (5.4.1)\n",
      "Requirement already satisfied: rdflib>=4.2.2 in /share/pkg.7/python3/3.7.10/install/lib/python3.7/site-packages (from ampligraph==1.4.0) (5.0.0)\n",
      "Requirement already satisfied: scipy>=1.3.0 in /share/pkg.7/python3/3.7.10/install/lib/python3.7/site-packages/scipy-1.6.2-py3.7-linux-x86_64.egg (from ampligraph==1.4.0) (1.6.2)\n",
      "Requirement already satisfied: networkx>=2.3 in /share/pkg.7/python3/3.7.10/install/lib/python3.7/site-packages (from ampligraph==1.4.0) (2.5.1)\n",
      "Requirement already satisfied: flake8>=3.7.7 in /share/pkg.7/python3/3.7.10/install/lib/python3.7/site-packages (from ampligraph==1.4.0) (3.8.4)\n",
      "Requirement already satisfied: setuptools>=36 in /share/pkg.7/python3/3.7.10/install/lib/python3.7/site-packages (from ampligraph==1.4.0) (47.1.0)\n",
      "Requirement already satisfied: commonmark<=0.5.4 in /usr3/graduate/sevvals/.local/lib/python3.7/site-packages (from recommonmark==0.4.0->ampligraph==1.4.0) (0.5.4)\n",
      "Requirement already satisfied: docutils>=0.11 in /share/pkg.7/python3/3.7.10/install/lib/python3.7/site-packages (from recommonmark==0.4.0->ampligraph==1.4.0) (0.16)\n",
      "Requirement already satisfied: pybtex>=0.20 in /usr3/graduate/sevvals/.local/lib/python3.7/site-packages (from sphinxcontrib-bibtex==0.4.2->ampligraph==1.4.0) (0.24.0)\n",
      "Requirement already satisfied: pybtex-docutils>=0.2.0 in /usr3/graduate/sevvals/.local/lib/python3.7/site-packages (from sphinxcontrib-bibtex==0.4.2->ampligraph==1.4.0) (1.0.2)\n",
      "Requirement already satisfied: six>=1.4.1 in /share/pkg.7/python3/3.7.10/install/lib/python3.7/site-packages (from sphinxcontrib-bibtex==0.4.2->ampligraph==1.4.0) (1.15.0)\n",
      "Requirement already satisfied: oset>=0.1.3 in /usr3/graduate/sevvals/.local/lib/python3.7/site-packages (from sphinxcontrib-bibtex==0.4.2->ampligraph==1.4.0) (0.1.3)\n",
      "Requirement already satisfied: wcwidth in /share/pkg.7/python3/3.7.10/install/lib/python3.7/site-packages (from beautifultable>=0.7.0->ampligraph==1.4.0) (0.2.5)\n",
      "Requirement already satisfied: pyflakes<2.3.0,>=2.2.0 in /share/pkg.7/python3/3.7.10/install/lib/python3.7/site-packages (from flake8>=3.7.7->ampligraph==1.4.0) (2.2.0)\n",
      "Requirement already satisfied: pycodestyle<2.7.0,>=2.6.0a1 in /share/pkg.7/python3/3.7.10/install/lib/python3.7/site-packages (from flake8>=3.7.7->ampligraph==1.4.0) (2.6.0)\n",
      "Requirement already satisfied: mccabe<0.7.0,>=0.6.0 in /share/pkg.7/python3/3.7.10/install/lib/python3.7/site-packages (from flake8>=3.7.7->ampligraph==1.4.0) (0.6.1)\n",
      "Requirement already satisfied: importlib-metadata in /share/pkg.7/python3/3.7.10/install/lib/python3.7/site-packages (from flake8>=3.7.7->ampligraph==1.4.0) (1.7.0)\n",
      "Requirement already satisfied: decorator<5,>=4.3 in /share/pkg.7/python3/3.7.10/install/lib/python3.7/site-packages (from networkx>=2.3->ampligraph==1.4.0) (4.4.2)\n",
      "Requirement already satisfied: python-dateutil>=2.7.3 in /share/pkg.7/python3/3.7.10/install/lib/python3.7/site-packages (from pandas>=0.23.1->ampligraph==1.4.0) (2.8.1)\n",
      "Requirement already satisfied: pytz>=2017.3 in /share/pkg.7/python3/3.7.10/install/lib/python3.7/site-packages (from pandas>=0.23.1->ampligraph==1.4.0) (2021.1)\n",
      "Requirement already satisfied: attrs>=19.2.0 in /share/pkg.7/python3/3.7.10/install/lib/python3.7/site-packages (from pytest>=3.5.1->ampligraph==1.4.0) (20.3.0)\n",
      "Requirement already satisfied: iniconfig in /share/pkg.7/python3/3.7.10/install/lib/python3.7/site-packages (from pytest>=3.5.1->ampligraph==1.4.0) (1.1.1)\n",
      "Requirement already satisfied: packaging in /share/pkg.7/python3/3.7.10/install/lib/python3.7/site-packages (from pytest>=3.5.1->ampligraph==1.4.0) (20.9)\n",
      "Requirement already satisfied: pluggy<1.0.0a1,>=0.12 in /share/pkg.7/python3/3.7.10/install/lib/python3.7/site-packages (from pytest>=3.5.1->ampligraph==1.4.0) (0.13.1)\n",
      "Requirement already satisfied: py>=1.8.2 in /share/pkg.7/python3/3.7.10/install/lib/python3.7/site-packages (from pytest>=3.5.1->ampligraph==1.4.0) (1.10.0)\n",
      "Requirement already satisfied: toml in /share/pkg.7/python3/3.7.10/install/lib/python3.7/site-packages (from pytest>=3.5.1->ampligraph==1.4.0) (0.10.2)\n",
      "Requirement already satisfied: isodate in /share/pkg.7/python3/3.7.10/install/lib/python3.7/site-packages (from rdflib>=4.2.2->ampligraph==1.4.0) (0.6.0)\n",
      "Requirement already satisfied: pyparsing in /share/pkg.7/python3/3.7.10/install/lib/python3.7/site-packages (from rdflib>=4.2.2->ampligraph==1.4.0) (2.4.7)\n",
      "Requirement already satisfied: joblib>=0.11 in /share/pkg.7/python3/3.7.10/install/lib/python3.7/site-packages (from scikit-learn>=0.19.1->ampligraph==1.4.0) (1.0.1)\n",
      "Requirement already satisfied: threadpoolctl>=2.0.0 in /share/pkg.7/python3/3.7.10/install/lib/python3.7/site-packages (from scikit-learn>=0.19.1->ampligraph==1.4.0) (2.1.0)\n",
      "Requirement already satisfied: sphinxcontrib-applehelp in /share/pkg.7/python3/3.7.10/install/lib/python3.7/site-packages (from sphinx<3,>=2.2->ampligraph==1.4.0) (1.0.2)\n",
      "Requirement already satisfied: sphinxcontrib-devhelp in /share/pkg.7/python3/3.7.10/install/lib/python3.7/site-packages (from sphinx<3,>=2.2->ampligraph==1.4.0) (1.0.2)\n",
      "Requirement already satisfied: sphinxcontrib-jsmath in /share/pkg.7/python3/3.7.10/install/lib/python3.7/site-packages (from sphinx<3,>=2.2->ampligraph==1.4.0) (1.0.1)\n",
      "Requirement already satisfied: sphinxcontrib-htmlhelp in /share/pkg.7/python3/3.7.10/install/lib/python3.7/site-packages (from sphinx<3,>=2.2->ampligraph==1.4.0) (1.0.3)\n",
      "Requirement already satisfied: sphinxcontrib-serializinghtml in /share/pkg.7/python3/3.7.10/install/lib/python3.7/site-packages (from sphinx<3,>=2.2->ampligraph==1.4.0) (1.1.4)\n",
      "Requirement already satisfied: sphinxcontrib-qthelp in /share/pkg.7/python3/3.7.10/install/lib/python3.7/site-packages (from sphinx<3,>=2.2->ampligraph==1.4.0) (1.0.3)\n",
      "Requirement already satisfied: Jinja2>=2.3 in /share/pkg.7/python3/3.7.10/install/lib/python3.7/site-packages (from sphinx<3,>=2.2->ampligraph==1.4.0) (2.11.3)\n",
      "Requirement already satisfied: Pygments>=2.0 in /share/pkg.7/python3/3.7.10/install/lib/python3.7/site-packages (from sphinx<3,>=2.2->ampligraph==1.4.0) (2.9.0)\n",
      "Requirement already satisfied: snowballstemmer>=1.1 in /share/pkg.7/python3/3.7.10/install/lib/python3.7/site-packages (from sphinx<3,>=2.2->ampligraph==1.4.0) (2.1.0)\n",
      "Requirement already satisfied: babel!=2.0,>=1.3 in /share/pkg.7/python3/3.7.10/install/lib/python3.7/site-packages (from sphinx<3,>=2.2->ampligraph==1.4.0) (2.9.1)\n",
      "Requirement already satisfied: alabaster<0.8,>=0.7 in /share/pkg.7/python3/3.7.10/install/lib/python3.7/site-packages (from sphinx<3,>=2.2->ampligraph==1.4.0) (0.7.12)\n",
      "Requirement already satisfied: imagesize in /share/pkg.7/python3/3.7.10/install/lib/python3.7/site-packages (from sphinx<3,>=2.2->ampligraph==1.4.0) (1.2.0)\n",
      "Requirement already satisfied: requests>=2.5.0 in /share/pkg.7/python3/3.7.10/install/lib/python3.7/site-packages (from sphinx<3,>=2.2->ampligraph==1.4.0) (2.25.1)\n",
      "Requirement already satisfied: zipp>=0.5 in /share/pkg.7/python3/3.7.10/install/lib/python3.7/site-packages (from importlib-metadata->flake8>=3.7.7->ampligraph==1.4.0) (3.4.1)\n",
      "Requirement already satisfied: MarkupSafe>=0.23 in /share/pkg.7/python3/3.7.10/install/lib/python3.7/site-packages (from Jinja2>=2.3->sphinx<3,>=2.2->ampligraph==1.4.0) (1.1.1)\n",
      "Requirement already satisfied: latexcodec>=1.0.4 in /usr3/graduate/sevvals/.local/lib/python3.7/site-packages (from pybtex>=0.20->sphinxcontrib-bibtex==0.4.2->ampligraph==1.4.0) (2.0.1)\n",
      "Requirement already satisfied: chardet<5,>=3.0.2 in /share/pkg.7/python3/3.7.10/install/lib/python3.7/site-packages (from requests>=2.5.0->sphinx<3,>=2.2->ampligraph==1.4.0) (4.0.0)\n",
      "Requirement already satisfied: idna<3,>=2.5 in /share/pkg.7/python3/3.7.10/install/lib/python3.7/site-packages (from requests>=2.5.0->sphinx<3,>=2.2->ampligraph==1.4.0) (2.10)\n",
      "Requirement already satisfied: urllib3<1.27,>=1.21.1 in /share/pkg.7/python3/3.7.10/install/lib/python3.7/site-packages (from requests>=2.5.0->sphinx<3,>=2.2->ampligraph==1.4.0) (1.26.4)\n",
      "Requirement already satisfied: certifi>=2017.4.17 in /share/pkg.7/python3/3.7.10/install/lib/python3.7/site-packages (from requests>=2.5.0->sphinx<3,>=2.2->ampligraph==1.4.0) (2020.12.5)\n",
      "\u001b[33mDEPRECATION: celery 5.0.5 has a non-standard dependency specifier pytz>dev. pip 24.1 will enforce this behaviour change. A possible replacement is to upgrade to a newer version of celery or contact the author to suggest that they release a version with a conforming dependency specifiers. Discussion can be found at https://github.com/pypa/pip/issues/12063\u001b[0m\u001b[33m\n",
      "\u001b[0m\u001b[33mDEPRECATION: nb-black 1.0.7 has a non-standard dependency specifier black>='19.3'; python_version >= \"3.6\". pip 24.1 will enforce this behaviour change. A possible replacement is to upgrade to a newer version of nb-black or contact the author to suggest that they release a version with a conforming dependency specifiers. Discussion can be found at https://github.com/pypa/pip/issues/12063\u001b[0m\u001b[33m\n",
      "\u001b[0m**** Missing build for a loaded module for Python version \"3.7.10\". \n",
      "Directory does not exist: /share/pkg.7/tensorflow/1.13.1/install/lib/site-packages/../python3.7/site-packages\n",
      "\n",
      "Defaulting to user installation because normal site-packages is not writeable\n",
      "Requirement already satisfied: tensorflow==1.13.1 in /usr3/graduate/sevvals/.local/lib/python3.7/site-packages (1.13.1)\n",
      "Requirement already satisfied: absl-py>=0.1.6 in /share/pkg.7/python3/3.7.10/install/lib/python3.7/site-packages (from tensorflow==1.13.1) (0.12.0)\n",
      "Requirement already satisfied: astor>=0.6.0 in /usr3/graduate/sevvals/.local/lib/python3.7/site-packages (from tensorflow==1.13.1) (0.8.1)\n",
      "Requirement already satisfied: gast>=0.2.0 in /usr3/graduate/sevvals/.local/lib/python3.7/site-packages (from tensorflow==1.13.1) (0.6.0)\n",
      "Requirement already satisfied: keras-applications>=1.0.6 in /usr3/graduate/sevvals/.local/lib/python3.7/site-packages (from tensorflow==1.13.1) (1.0.8)\n",
      "Requirement already satisfied: keras-preprocessing>=1.0.5 in /usr3/graduate/sevvals/.local/lib/python3.7/site-packages (from tensorflow==1.13.1) (1.1.2)\n",
      "Requirement already satisfied: numpy>=1.13.3 in /share/pkg.7/python3/3.7.10/install/lib/python3.7/site-packages/numpy-1.19.5-py3.7-linux-x86_64.egg (from tensorflow==1.13.1) (1.19.5)\n",
      "Requirement already satisfied: six>=1.10.0 in /share/pkg.7/python3/3.7.10/install/lib/python3.7/site-packages (from tensorflow==1.13.1) (1.15.0)\n",
      "Requirement already satisfied: protobuf>=3.6.1 in /share/pkg.7/python3/3.7.10/install/lib/python3.7/site-packages (from tensorflow==1.13.1) (3.15.8)\n",
      "Requirement already satisfied: tensorboard<1.14.0,>=1.13.0 in /usr3/graduate/sevvals/.local/lib/python3.7/site-packages (from tensorflow==1.13.1) (1.13.1)\n",
      "Requirement already satisfied: tensorflow-estimator<1.14.0rc0,>=1.13.0 in /usr3/graduate/sevvals/.local/lib/python3.7/site-packages (from tensorflow==1.13.1) (1.13.0)\n",
      "Requirement already satisfied: termcolor>=1.1.0 in /usr3/graduate/sevvals/.local/lib/python3.7/site-packages (from tensorflow==1.13.1) (2.3.0)\n",
      "Requirement already satisfied: grpcio>=1.8.6 in /usr3/graduate/sevvals/.local/lib/python3.7/site-packages (from tensorflow==1.13.1) (1.62.3)\n",
      "Requirement already satisfied: wheel>=0.26 in /share/pkg.7/python3/3.7.10/install/lib/python3.7/site-packages (from tensorflow==1.13.1) (0.36.2)\n",
      "Requirement already satisfied: h5py in /share/pkg.7/python3/3.7.10/install/lib/python3.7/site-packages (from keras-applications>=1.0.6->tensorflow==1.13.1) (3.2.1)\n",
      "Requirement already satisfied: markdown>=2.6.8 in /share/pkg.7/python3/3.7.10/install/lib/python3.7/site-packages (from tensorboard<1.14.0,>=1.13.0->tensorflow==1.13.1) (3.3.4)\n",
      "Requirement already satisfied: werkzeug>=0.11.15 in /share/pkg.7/python3/3.7.10/install/lib/python3.7/site-packages (from tensorboard<1.14.0,>=1.13.0->tensorflow==1.13.1) (1.0.1)\n",
      "Requirement already satisfied: mock>=2.0.0 in /share/pkg.7/python3/3.7.10/install/lib/python3.7/site-packages (from tensorflow-estimator<1.14.0rc0,>=1.13.0->tensorflow==1.13.1) (4.0.3)\n",
      "Requirement already satisfied: importlib-metadata in /share/pkg.7/python3/3.7.10/install/lib/python3.7/site-packages (from markdown>=2.6.8->tensorboard<1.14.0,>=1.13.0->tensorflow==1.13.1) (1.7.0)\n",
      "Requirement already satisfied: cached-property in /share/pkg.7/python3/3.7.10/install/lib/python3.7/site-packages (from h5py->keras-applications>=1.0.6->tensorflow==1.13.1) (1.5.2)\n",
      "Requirement already satisfied: zipp>=0.5 in /share/pkg.7/python3/3.7.10/install/lib/python3.7/site-packages (from importlib-metadata->markdown>=2.6.8->tensorboard<1.14.0,>=1.13.0->tensorflow==1.13.1) (3.4.1)\n",
      "\u001b[33mDEPRECATION: celery 5.0.5 has a non-standard dependency specifier pytz>dev. pip 24.1 will enforce this behaviour change. A possible replacement is to upgrade to a newer version of celery or contact the author to suggest that they release a version with a conforming dependency specifiers. Discussion can be found at https://github.com/pypa/pip/issues/12063\u001b[0m\u001b[33m\n",
      "\u001b[0m\u001b[33mDEPRECATION: nb-black 1.0.7 has a non-standard dependency specifier black>='19.3'; python_version >= \"3.6\". pip 24.1 will enforce this behaviour change. A possible replacement is to upgrade to a newer version of nb-black or contact the author to suggest that they release a version with a conforming dependency specifiers. Discussion can be found at https://github.com/pypa/pip/issues/12063\u001b[0m\u001b[33m\n",
      "\u001b[0m"
     ]
    }
   ],
   "source": [
    "!pip install ampligraph==1.4.0\n",
    "!pip install tensorflow==1.13.1\n",
    "# Do not run if these are already installed"
   ]
  },
  {
   "cell_type": "code",
   "execution_count": 6,
   "id": "df04f04a",
   "metadata": {},
   "outputs": [],
   "source": [
    "import warnings\n",
    "warnings.filterwarnings(\"ignore\")\n",
    "import numpy as np\n",
    "import pandas as pd\n",
    "import ampligraph"
   ]
  },
  {
   "cell_type": "code",
   "execution_count": 7,
   "id": "1acc7c6e",
   "metadata": {},
   "outputs": [],
   "source": [
    "# Load CWE Views, Categories and Hierarcical relationships (parent, peer..)\n",
    "cwe_view = pd.read_csv(\"../datasets/processed/csv_file/2021aug/cwe_view.csv\")\n",
    "cwe_category = pd.read_csv(\"../datasets/processed/csv_file/2021aug/cwe_category.csv\")\n",
    "cwe_rels = pd.read_csv(\"./cwe_relations.csv\")"
   ]
  },
  {
   "cell_type": "code",
   "execution_count": 8,
   "id": "62d0ebe5",
   "metadata": {},
   "outputs": [],
   "source": [
    "views = []\n",
    "\n",
    "for i, item in cwe_view.iterrows():\n",
    "    views.append([item['ID'],item['Name'],item['Has_Member']])"
   ]
  },
  {
   "cell_type": "code",
   "execution_count": 9,
   "id": "57545550",
   "metadata": {},
   "outputs": [],
   "source": [
    "categories = []\n",
    "\n",
    "for i, item in cwe_category.iterrows():\n",
    "    categories.append([item['ID'],item['Name'],item['Has_Member']])"
   ]
  },
  {
   "cell_type": "code",
   "execution_count": 10,
   "id": "cf06a34f",
   "metadata": {},
   "outputs": [],
   "source": [
    "df_cve = pd.read_csv(\"../datasets/processed/csv_file/2021aug/cve/cve-2002.csv\")\n",
    "df_cve.fillna('*', inplace = True)\n",
    "for i in range(2003, 2022):\n",
    "    filename = '../datasets/processed/csv_file/2021aug/cve/cve-' + str(i) + '.csv'\n",
    "    df_temp = pd.read_csv(filename)\n",
    "    df_temp.fillna('*', inplace = True)\n",
    "    df_cve=pd.concat([df_cve, df_temp])"
   ]
  },
  {
   "cell_type": "code",
   "execution_count": 11,
   "id": "ec5feea0",
   "metadata": {},
   "outputs": [],
   "source": [
    "df_cwe = pd.read_csv(\"../datasets/processed/csv_file/2021aug/cwe.csv\")\n",
    "df_cwe.fillna('*', inplace=True)\n",
    "\n",
    "df_cwe_cate = pd.read_csv(\"../datasets/processed/csv_file/2021aug/cwe_category.csv\")\n",
    "df_cwe_view = pd.read_csv(\"../datasets/processed/csv_file/2021aug/cwe_view.csv\")\n",
    "df_cwe_cate.fillna('*', inplace=True)\n",
    "df_cwe_view.fillna('*', inplace=True)"
   ]
  },
  {
   "cell_type": "code",
   "execution_count": 40,
   "id": "7dd2d0d4",
   "metadata": {},
   "outputs": [
    {
     "data": {
      "text/plain": [
       "Index(['CWE-ID', 'Weakness Abstraction'], dtype='object')"
      ]
     },
     "execution_count": 40,
     "metadata": {},
     "output_type": "execute_result"
    }
   ],
   "source": [
    "df_cwe_1003 = pd.read_csv(\"./cwe-1003.csv\", usecols = ['CWE-ID','Weakness Abstraction'], index_col=False)\n",
    "df_cwe_1003.fillna('*', inplace=True)\n",
    "df_cwe_1003.columns"
   ]
  },
  {
   "cell_type": "code",
   "execution_count": 42,
   "id": "cfb432cb",
   "metadata": {},
   "outputs": [],
   "source": [
    "cwe_sublist = []\n",
    "cwe_1003 = []\n",
    "cwe_disc = [\"CWE-119\",\"CWE-20\",\"CWE-200\",\"CWE-269\",\"CWE-289\",\n",
    "\"CWE-311\",\"CWE-330\",\"CWE-345\",\"CWE-74\",\"CWE-400\",\"CWE-610\",\"CWE-662\",\n",
    "\"CWE-665\",\"CWE-668\",\"CWE-682\",\"CWE-697\",\"CWE-755\",\"CWE-834\"]\n",
    "for i,r in df_cwe_1003.iterrows():\n",
    "    cweid = r['CWE-ID']\n",
    "    cwe_abs = r['Weakness Abstraction']\n",
    "    cwe_1003.append(cweid)\n",
    "    \n",
    "    if cweid not in cwe_disc:\n",
    "        cweid = \"CWE-\" + str(cweid)\n",
    "        cwe_sublist.append((cweid,cwe_abs))\n",
    "        \n",
    "#print(cwe_sublist)"
   ]
  },
  {
   "cell_type": "code",
   "execution_count": 12,
   "id": "cfa85416",
   "metadata": {},
   "outputs": [],
   "source": [
    "cwe_list = []\n",
    "\n",
    "kg_cwe = []\n",
    "\n",
    "for i,r in df_cwe.iterrows():\n",
    "    cweid = r['ID']\n",
    "    cwe_list.append(cweid)"
   ]
  },
  {
   "cell_type": "code",
   "execution_count": 15,
   "id": "b8d074c9",
   "metadata": {},
   "outputs": [],
   "source": [
    "kg_cvecwe_all = []\n",
    "\n",
    "for i,r in df_cve.iterrows():\n",
    "    cveid = r['ID']\n",
    "\n",
    "    if (r['MatchingCWE'] != '*' and r['MatchingCWE'] != 'NVD-CWE-Other' and r['MatchingCWE'] != 'NVD-CWE-noinfo'):\n",
    "        cwelist = r['MatchingCWE'].split(';')\n",
    "        for w in cwelist:\n",
    "            matchcwe = [cveid, 'MatchingCWE', w]\n",
    "            kg_cvecwe_all.append((matchcwe))\n",
    "    else:\n",
    "        matchcwe = [cveid, 'MatchingCWE', r['MatchingCWE']]\n",
    "        kg_cvecwe_all.append((matchcwe))"
   ]
  },
  {
   "cell_type": "code",
   "execution_count": 16,
   "id": "8638293d",
   "metadata": {},
   "outputs": [],
   "source": [
    "df_cvecwe2 = pd.DataFrame(kg_cvecwe_all, columns = ['CVE', 'Predicate', 'CWE'])"
   ]
  },
  {
   "cell_type": "code",
   "execution_count": 18,
   "id": "3f6807ba",
   "metadata": {},
   "outputs": [],
   "source": [
    "# Dataframe of all CVE-CWE mappings, including cwe-noinfo and cwe-other. \n",
    "df_cvecwe2.to_csv('df_cve2cwe.csv', index=False)"
   ]
  },
  {
   "cell_type": "markdown",
   "id": "2373d172",
   "metadata": {},
   "source": [
    "For each view and category, and each CVE that are mapped to those, we query the KG for valid CWE mappings from the members of the same view or category"
   ]
  },
  {
   "cell_type": "code",
   "execution_count": 19,
   "id": "5d05c854",
   "metadata": {},
   "outputs": [],
   "source": [
    "'''Get all CVE that are mapped to a given CWE, search in given list 'li' '''\n",
    "def get_cve_cwe(cwe, li):\n",
    "    cves = []\n",
    "    for item in li:\n",
    "        if(item[2] == cwe):\n",
    "            cves.append(item[0])\n",
    "    return(cves)"
   ]
  },
  {
   "cell_type": "code",
   "execution_count": 32,
   "id": "e5670076",
   "metadata": {},
   "outputs": [],
   "source": [
    "cwe_dict = {}\n",
    "for i, row in cwe_rels.iterrows():\n",
    "    child = row['Child']\n",
    "    parent = row['Parent']\n",
    "    rel = row['Relationship']\n",
    "    \n",
    "    if rel == 'ChildOf':\n",
    "        if child in cwe_dict:\n",
    "            cwe_dict[child].append(parent)\n",
    "        else:\n",
    "            cwe_dict[child] = []\n",
    "            cwe_dict[child].append(parent)\n",
    "#print(cwe_dict)"
   ]
  },
  {
   "cell_type": "code",
   "execution_count": 33,
   "id": "e091d4fc",
   "metadata": {},
   "outputs": [],
   "source": [
    "# using df_cwe_cate or df_cwe_view for querying for CWEs in that list (that can be used to map CVEs i.e. in CWE-1003 list)\n",
    "\n",
    "def get_cwe_subtree(cweid):\n",
    "    cwe_members = []\n",
    "    if cweid in df_cwe_cate['ID'].tolist():    \n",
    "        item = df_cwe_cate.loc[df_cwe_cate['ID'] == cweid]\n",
    "        cwe_str = item['Has_Member']\n",
    "        cwe_members= cwe_str.str.split(';')\n",
    "        \n",
    "    elif cweid in df_cwe_view['ID'].tolist():  \n",
    "        item = df_cwe_view.loc[df_cwe_view['ID'] == cweid]\n",
    "        cwe_str = item['Has_Member']\n",
    "        cwe_members= cwe_str.str.split(';')\n",
    "     \n",
    "    cwe_ret = []\n",
    "    for item in cwe_members:\n",
    "        children = get_cwe_children(item)\n",
    "        if item in cwe_1003:\n",
    "            cwe_ret.append(item)\n",
    "        for ch in children:\n",
    "            if ch in cwe_1003:\n",
    "                cwe_ret.append(ch)\n",
    "    return cwe_ret"
   ]
  },
  {
   "cell_type": "code",
   "execution_count": 34,
   "id": "9734d1f8",
   "metadata": {},
   "outputs": [],
   "source": [
    "# This is the first method I implemented to find family of the CWE. Usually, this yields a \n",
    "# large list of CWE that are related to each other, since we are returning the whole branch\n",
    "# that CWE is in. Rather, we can also just return direct parents and children (below cell)\n",
    "\n",
    "def get_cwe_parents(cwe):\n",
    "    #given a cwe, find all related cwe that are in the same branch.\n",
    "    family = []\n",
    "    \n",
    "    if cwe in cwe_dict:\n",
    "        # exists as key - has parents.\n",
    "        value = cwe_dict[cwe]\n",
    "        for item in value:\n",
    "            family.append(item)\n",
    "            res = get_cwe_family(item) #recursively reach boss parent\n",
    "            if res:\n",
    "                family.extend(res)\n",
    "    return family\n",
    "\n",
    "def get_cwe_children(cwe):\n",
    "    family = []\n",
    "    \n",
    "    if any(cwe in val for val in cwe_dict.values()):\n",
    "        keys = [key for key, value in cwe_dict.items() if cwe in value]\n",
    "        #print(keys)\n",
    "        family.extend(keys)\n",
    "        for item in keys:\n",
    "            res = get_cwe_children(item)  \n",
    "            if res:\n",
    "                family.extend(res)\n",
    "    return family\n",
    "    \n",
    "def get_cwe_family(cwe):\n",
    "    return set(get_cwe_parents(cwe) + get_cwe_children(cwe))"
   ]
  },
  {
   "cell_type": "code",
   "execution_count": 35,
   "id": "968e3d7b",
   "metadata": {},
   "outputs": [],
   "source": [
    "query_list = []"
   ]
  },
  {
   "cell_type": "code",
   "execution_count": 36,
   "id": "517f6e44",
   "metadata": {},
   "outputs": [],
   "source": [
    "for view in views:\n",
    "    cve_list = get_cve_cwe(view[0], kg_cve2cwe)\n",
    "    \n",
    "    if(len(cve_list)>0):\n",
    "        print(view[0], cve_list)\n",
    "        query_list.append([view[0], cve_list])"
   ]
  },
  {
   "cell_type": "code",
   "execution_count": 37,
   "id": "62d7bf3f",
   "metadata": {},
   "outputs": [],
   "source": [
    "for cate in categories:\n",
    "    cve_list2 = get_cve_cwe(cate[0], kg_cve2cwe)\n",
    "    \n",
    "    if(len(cve_list2)>0):\n",
    "        #print(cate[0], cve_list2)\n",
    "        query_list.append([cate[0], cve_list2])"
   ]
  },
  {
   "cell_type": "code",
   "execution_count": 38,
   "id": "4225a460",
   "metadata": {},
   "outputs": [],
   "source": [
    "# List of discouraged CWE - so that these could be avoided when predicting good CWE possibilities\n",
    "cwe_disc = [\"CWE-119\",\"CWE-20\",\"CWE-200\",\"CWE-269\",\"CWE-289\",\n",
    "\"CWE-311\",\"CWE-330\",\"CWE-345\",\"CWE-74\",\"CWE-400\",\"CWE-610\",\"CWE-662\",\n",
    "\"CWE-665\",\"CWE-668\",\"CWE-682\",\"CWE-697\",\"CWE-755\",\"CWE-834\"]"
   ]
  },
  {
   "cell_type": "code",
   "execution_count": 43,
   "id": "4749803a",
   "metadata": {},
   "outputs": [],
   "source": [
    "# Filtering those views and categories with no members\n",
    "cwe_nomember = []\n",
    "for item in query_list:\n",
    "    cwe_subtree = get_cwe_subtree(item[0])\n",
    "    if len(cwe_subtree) == 0:\n",
    "        #print(item[0])\n",
    "        cwe_nomember.append(item[0])"
   ]
  },
  {
   "cell_type": "code",
   "execution_count": 44,
   "id": "e532c5b1",
   "metadata": {},
   "outputs": [],
   "source": [
    "# Combined list of PROHIBITED cwe = categories + views\n",
    "cwe_proh = []\n",
    "for cate in categories:\n",
    "    cwe_proh.append(cate[0])\n",
    "    \n",
    "for view in views:\n",
    "    cwe_proh.append(view[0])"
   ]
  },
  {
   "cell_type": "code",
   "execution_count": 45,
   "id": "43c6cc5d",
   "metadata": {},
   "outputs": [],
   "source": [
    "# Query triples for Discouraged set - CWE and the list of CVE mapped to those\n",
    "query_disc = {}\n",
    "for weak in cwe_disc:\n",
    "    query_disc[weak] = []\n",
    "\n",
    "for row in kg_cvecwe_all:\n",
    "    cwe = row[2]#'CWE']\n",
    "    for i in cwe.split(';'):\n",
    "        if i in cwe_disc:\n",
    "            query_disc[i].append(row[0])"
   ]
  },
  {
   "cell_type": "code",
   "execution_count": 48,
   "id": "25af8773",
   "metadata": {
    "collapsed": true
   },
   "outputs": [
    {
     "name": "stdout",
     "output_type": "stream",
     "text": [
      "CWE-119 11476\n",
      "CWE-20 8389\n",
      "CWE-200 6722\n",
      "CWE-269 1109\n",
      "CWE-289 0\n",
      "CWE-311 169\n",
      "CWE-330 141\n",
      "CWE-345 163\n",
      "CWE-74 516\n",
      "CWE-400 912\n",
      "CWE-610 55\n",
      "CWE-662 23\n",
      "CWE-665 155\n",
      "CWE-668 225\n",
      "CWE-682 52\n",
      "CWE-697 21\n",
      "CWE-755 219\n",
      "CWE-834 59\n",
      "total 30406\n"
     ]
    }
   ],
   "source": [
    "# Counting how many CVE are mapped to each Discouraged CWE in 2021. \n",
    "total = 0\n",
    "for key in query_disc:\n",
    "    print(key, len(query_disc[key]))\n",
    "    total += len(query_disc[key])\n",
    "print(\"total\",total) #32761 for 2024 - total 30406 for 2021"
   ]
  },
  {
   "cell_type": "code",
   "execution_count": 46,
   "id": "b0dc3fef",
   "metadata": {},
   "outputs": [],
   "source": [
    "# Query triples for Discouraged set - CWE and the list of CVE mapped to those\n",
    "query_proh = {}\n",
    "for weak in cwe_proh:\n",
    "    query_proh[weak] = []\n",
    "\n",
    "for row in kg_cvecwe_all:\n",
    "    cwe = row[2]\n",
    "    for i in cwe.split(';'):\n",
    "        if i in cwe_proh:\n",
    "            query_proh[i].append(row[0])"
   ]
  },
  {
   "cell_type": "code",
   "execution_count": 47,
   "id": "c6da843e",
   "metadata": {
    "collapsed": true
   },
   "outputs": [
    {
     "name": "stdout",
     "output_type": "stream",
     "text": [
      "CWE-16 267\n",
      "CWE-189 1297\n",
      "CWE-19 229\n",
      "CWE-199 6\n",
      "CWE-254 421\n",
      "CWE-255 742\n",
      "CWE-264 5328\n",
      "CWE-275 63\n",
      "CWE-310 2494\n",
      "CWE-320 41\n",
      "CWE-361 7\n",
      "CWE-371 1\n",
      "CWE-388 35\n",
      "CWE-399 2649\n",
      "CWE-417 15\n",
      "CWE-895 1\n",
      "total 13596\n"
     ]
    }
   ],
   "source": [
    "# Counting how many CVE are mapped to each Prohibited CWE in 2021. \n",
    "total = 0\n",
    "for key in query_proh:\n",
    "    if len(query_proh[key]) > 0:\n",
    "        print(key, len(query_proh[key]))\n",
    "        total += len(query_proh[key])\n",
    "\n",
    "print(\"total\",total) #13180 for 2024, 13596 for 2021."
   ]
  },
  {
   "cell_type": "code",
   "execution_count": 49,
   "id": "7787632e",
   "metadata": {},
   "outputs": [],
   "source": [
    "# Updated CVE-CWE mappings as of 2024 December - list we use to 'verify'\n",
    "new_cve_df = pd.read_csv('./cve2cwe_2024.csv')"
   ]
  },
  {
   "cell_type": "markdown",
   "id": "4f49462e",
   "metadata": {},
   "source": [
    "Next we filter the query sets to get the mappings that were updated"
   ]
  },
  {
   "cell_type": "code",
   "execution_count": 50,
   "id": "4641db95",
   "metadata": {},
   "outputs": [],
   "source": [
    "# Prohibited Set\n",
    "filtered_query_p = []\n",
    "for key,value in query_proh.items():\n",
    "    cwe_q = key\n",
    "    cve_q = value\n",
    "    cve_list = []\n",
    "    for cve in cve_q: \n",
    "        row = new_cve_df.loc[new_cve_df[\"subject:START_ID\"] == cve]\n",
    "        cwe_match = list(row[\"object:END_ID\"].values)\n",
    "        #print(cwe_match)\n",
    "        try:\n",
    "            cwe_match.remove(cwe_q)\n",
    "            # remove the known cwe from the updated CVE mapping, if it still exists\n",
    "            # If the cwe was removed, this will fall into except\n",
    "            # Otherwise, we'll include the new cwe and model will try to predict that \n",
    "        except:\n",
    "            continue\n",
    "        if len(cwe_match)>0:\n",
    "            cve_list.append(cve)\n",
    "    if cve_list:\n",
    "        filtered_query_p.append([cwe_q,cve_list])"
   ]
  },
  {
   "cell_type": "code",
   "execution_count": 51,
   "id": "a71fc786",
   "metadata": {},
   "outputs": [],
   "source": [
    "# Discouraged Set\n",
    "filtered_query_d = []\n",
    "for key,value in query_disc.items():\n",
    "    cwe_q = key\n",
    "    cve_q = value\n",
    "    cve_list = []\n",
    "    for cve in cve_q: \n",
    "        row = new_cve_df.loc[new_cve_df[\"subject:START_ID\"] == cve]\n",
    "        cwe_match = list(row[\"object:END_ID\"].values)\n",
    "        #print(cwe_match)\n",
    "        try:\n",
    "            cwe_match.remove(cwe_q)\n",
    "        except:\n",
    "            continue\n",
    "        if len(cwe_match)>0:\n",
    "            cve_list.append(cve)\n",
    "    if cve_list:\n",
    "        filtered_query_d.append([cwe_q,cve_list])"
   ]
  },
  {
   "cell_type": "code",
   "execution_count": 52,
   "id": "173f7a3c",
   "metadata": {},
   "outputs": [],
   "source": [
    "df_query = pd.DataFrame(filtered_query_p, columns = ['CWE','CVE'])\n",
    "df_query.to_csv('filtered_query_p.csv')"
   ]
  },
  {
   "cell_type": "code",
   "execution_count": 53,
   "id": "44dff408",
   "metadata": {},
   "outputs": [],
   "source": [
    "df_query = pd.DataFrame(filtered_query_d, columns = ['CWE','CVE'])\n",
    "df_query.to_csv('filtered_query_d.csv')"
   ]
  },
  {
   "cell_type": "markdown",
   "id": "49203eaf",
   "metadata": {},
   "source": [
    "Here, we are done with our preprocessing code.\n",
    "We filtered the CVE that were mapped to prohibited or discouraged CWE on 2021 August, and were updated by 2024 December. The filtered query files can be used in the FixV2W tutorial."
   ]
  }
 ],
 "metadata": {
  "kernelspec": {
   "display_name": "Python 3",
   "language": "python",
   "name": "python3"
  },
  "language_info": {
   "codemirror_mode": {
    "name": "ipython",
    "version": 3
   },
   "file_extension": ".py",
   "mimetype": "text/x-python",
   "name": "python",
   "nbconvert_exporter": "python",
   "pygments_lexer": "ipython3",
   "version": "3.7.10"
  }
 },
 "nbformat": 4,
 "nbformat_minor": 5
}
