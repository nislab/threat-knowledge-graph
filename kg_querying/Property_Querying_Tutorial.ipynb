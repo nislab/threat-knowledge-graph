{
 "cells": [
  {
   "cell_type": "markdown",
   "id": "ec19ecd5",
   "metadata": {},
   "source": [
    "# Property Querying"
   ]
  },
  {
   "cell_type": "markdown",
   "id": "040ee954",
   "metadata": {},
   "source": [
    "The motivation behind this tutorial is to demonstrate my method for querying the properties of removed and non-removed triples and compare the the resulting differences between the sets. I used the Neo4j python API to query the knowledge graph and ultimately store the data in .xlsx files.   \n",
    "\n",
    "This tutorial demonstrates how to query CPE-CVE triples for the 5 different properties in CPE nodes and the 1 property in CVE nodes. The exact same process can be applied for CVE-CWE triples and their node properties.\n",
    "\n",
    "We first need to set-up our knowledge graph in Neo4j. "
   ]
  },
  {
   "cell_type": "markdown",
   "id": "c3a4456d",
   "metadata": {},
   "source": [
    "## Set-up"
   ]
  },
  {
   "attachments": {
    "image-2.png": {
     "image/png": "[encoded data removed]"
    }
   },
   "cell_type": "markdown",
   "id": "1f4ca7e7",
   "metadata": {},
   "source": [
    "If you have a system with a GUI that can download applications from a browser, you can use the Neo4J desktop application. In that case, reference Zhenpeng Shi's tutorial at: https://github.com/nislab/threat-knowledge-graph/blob/main/neo4j_import/threat_kg_with_neo4j.md. <br>\n",
    "\n",
    "If you're using a terminal-based Debian system such as a NERC Openstack virtual machine, follow the tutorial at: https://github.com/sevvalboylu/BU-RH-Threat-Knowledge/blob/main/Tutorials/Visualize_with_Neo4j/Neo4J_NERC_Setup.md \n",
    "\n",
    "In either case, we will need the Neo4j python API. Make sure Neo4j support is installed with `pip install neo4j`. <br>\n",
    "\n",
    "The scripts here also use the `panda`,`pickle`, `xlsxwriter`, and `tqdm` packages in addition to the `neo4j` package.\n",
    "\n",
    "We first need to start the local server that hosts Neo4j application by simply clicking the start in project tab in the Neo4j desktop application (shown below) or by using `sudo /usr/bin/neo4j-admin server start` for the terminal-based system.\n",
    "\n",
    "![image-2.png](attachment:image-2.png)\n",
    "\n",
    "<br> The rest of the tutorial covers Python code that can be run in your environment. I personally had a new `.py` file for each section here, so there are some redudent `import <package_name>` lines in the code. This tutorial was based on Python 3.7."
   ]
  },
  {
   "cell_type": "markdown",
   "id": "7ff2e9c2",
   "metadata": {},
   "source": [
    "## Removed Triples Querying"
   ]
  },
  {
   "cell_type": "markdown",
   "id": "664b7fe4",
   "metadata": {},
   "source": [
    "We first need to connect to the server in our python script. The default host should just always be `bolt://localhost:7687`. The password field is set when the project is created and the default user field is `neo4j`"
   ]
  },
  {
   "cell_type": "code",
   "execution_count": null,
   "id": "e5025058",
   "metadata": {},
   "outputs": [],
   "source": [
    "from neo4j import GraphDatabase\n",
    "\n",
    "URI = \"bolt://localhost:7687\"\n",
    "AUTH = (\"user\", \"password\")\n",
    "\n",
    "with GraphDatabase.driver(URI, auth=AUTH) as driver:\n",
    "    driver.verify_connectivity()"
   ]
  },
  {
   "cell_type": "markdown",
   "id": "99b57dc3",
   "metadata": {},
   "source": [
    "We then set up our dict data structures that will store the number of occurrences for each property. There are 5 types of properties for CPE nodes, meaning we need a 2D dictionary for the CPE nodes. Each property type will have a dict with pairs of  specific property names and their occurrence counts. There is only 1 property for CVE nodes (its name), so we can just do a normal 1D dictionary, with pairs of peoperty names and their occurrence counts. We will also have a list to store triples that the query doesn't work for."
   ]
  },
  {
   "cell_type": "code",
   "execution_count": null,
   "id": "033e4a6a",
   "metadata": {},
   "outputs": [],
   "source": [
    "cpe_properties_dict = {\n",
    "  \"Part\": {},\n",
    "  \"Target_sw\": {},\n",
    "  \"Target_hw\": {},\n",
    "  \"Product\": {},\n",
    "  \"Vendor\": {},\n",
    "  \"Name\": {}\n",
    "}\n",
    "\n",
    "cve_nodes = {}\n",
    "\n",
    "invalid_triples = []"
   ]
  },
  {
   "cell_type": "markdown",
   "id": "7c2eebeb",
   "metadata": {},
   "source": [
    "We then load in our set of triples that we want to query the properties for via the `pandas` library. We will query the removed triples first, based on our analysis from the August 2021 NVD data and the November 2022 NVD data. \n",
    "\n",
    "We had done some preprocessing in previous scripts to get triples in an usable format. The tutorial can be found at: https://github.com/nislab/threat-knowledge-graph/tree/main/preprocess and the saved files can be found at: https://github.com/nislab/threat-knowledge-graph/tree/main/threat_kg/saved\n",
    "\n",
    "We did further preprocessing to seperate out removed and non-removed triples in this tutorial: https://github.com/sevvalboylu/BU-RH-Threat-Knowledge/blob/main/NVD-Removals/Scoring_Removed_and_Non-Removed_Triples_Tutorial.ipynb"
   ]
  },
  {
   "cell_type": "code",
   "execution_count": null,
   "id": "fc3e9ef7",
   "metadata": {},
   "outputs": [],
   "source": [
    "import pandas as pd    \n",
    "removed_cpe2cve = []\n",
    "removed_cpe2cve_df = pd.read_csv(\".../removed_cpe2cve.csv\", usecols=[\"subject\", \"predicate\", \"object\"])\n",
    "for i,r in removed_cpe2cve_df.iterrows():\n",
    "    removed_cpe2cve.append([r['subject'],r['predicate'],r['object']])"
   ]
  },
  {
   "cell_type": "markdown",
   "id": "faaeb378",
   "metadata": {},
   "source": [
    "We then use the `tqdm` package to set-up a progress bar. This part is totally optional, but does provide a useful reference for runtime. There may be some display bugs as the `tqdm` package and `print()` function can interfere with each other somewhat, but they won't affect much."
   ]
  },
  {
   "cell_type": "code",
   "execution_count": null,
   "id": "c6820e18",
   "metadata": {},
   "outputs": [],
   "source": [
    "from tqdm import tqdm\n",
    "progress = tqdm (range(len(removed_cpe2cve)), desc=\"Progress\" ,position=0, leave=True, ascii=False, ncols=75)"
   ]
  },
  {
   "cell_type": "markdown",
   "id": "3385d148",
   "metadata": {},
   "source": [
    "We then parse through our set. For each triple, we first update the progress bar. <br>\n",
    "\n",
    "Then, we query the Neo4j for the properties of the CPE node. If the query doesn't return anything, we append the triple to our `invalid_triples` list and move on to the next triple. Otherwise, if the specific property is already a key in our `cpe_properties_dict` dict, we just increment that key's corresponding value by 1. If it doesn't exist, we create a new pair with the property as the key and a value of 1. \n",
    "\n",
    "We then also do the same with the cve names in our triple to the `cve_nodes` dict."
   ]
  },
  {
   "cell_type": "code",
   "execution_count": null,
   "id": "8fdbbd31",
   "metadata": {},
   "outputs": [],
   "source": [
    "for triple in removed_cpe2cve:\n",
    "    \n",
    "    progress.update(1)\n",
    "    \n",
    "    #direct properties\n",
    "    query_string = \"match (p:CPE)-[:MatchingCVE]->(v:CVE)\\\n",
    "where p.Name = \\\"\" + triple[0] + \"\\\" AND v.Name = \\\"\" + triple[2] +\"\\\"\\\n",
    "return p, v\"\n",
    "\n",
    "    records, summary, keys = driver.execute_query(\n",
    "        query_string,\n",
    "        database_=\"neo4j\",\n",
    "    )\n",
    "    \n",
    "    if(records == []):\n",
    "        invalid_triples.append(triple)\n",
    "        continue\n",
    "        \n",
    "    current_props = records[0][0]._properties\n",
    "    for property_name in current_props:\n",
    "        property_value = current_props[property_name]\n",
    "        if property_value in cpe_properties_dict[property_name]:\n",
    "            cpe_properties_dict[property_name][property_value] += 1;\n",
    "        else:\n",
    "            cpe_properties_dict[property_name][property_value] = 1;\n",
    "    \n",
    "     \n",
    "    if triple[2] in cve_nodes:\n",
    "        cve_nodes[triple[2]] += 1; \n",
    "    else:\n",
    "        cve_nodes[triple[2]] = 1;"
   ]
  },
  {
   "cell_type": "markdown",
   "id": "5c2906b3",
   "metadata": {},
   "source": [
    "Theorectically, there shouldn't be any invalid triples, but I believe because of inconsistencies or errors in naming and triple extraction, I did encounter some invalid triples, but not a significant amount."
   ]
  },
  {
   "cell_type": "markdown",
   "id": "42a3fc19",
   "metadata": {},
   "source": [
    "Once we've extracted the property counts for the removed triples, we can store them via the `pickle` package for backup and usage in later scripts. Do note that `pickle` automatically stores the data structures in the same directory as your script."
   ]
  },
  {
   "cell_type": "code",
   "execution_count": null,
   "id": "1651e981",
   "metadata": {},
   "outputs": [],
   "source": [
    "import pickle \n",
    "with open('removed_cpe_properties_counts.pkl', 'wb') as f:\n",
    "    pickle.dump(cpe_properties_dict, f)\n",
    "\n",
    "with open('removed_cve_names_counts.pkl', 'wb') as f:\n",
    "    pickle.dump(cve_nodes, f)\n",
    "\n",
    "with open('removed_cpe_properties_counts.pkl', 'wb') as f:\n",
    "    pickle.dump(cpe_properties_dict, f)"
   ]
  },
  {
   "cell_type": "markdown",
   "id": "e050336c",
   "metadata": {},
   "source": [
    "## Non-removed Query"
   ]
  },
  {
   "cell_type": "markdown",
   "id": "8b82f125",
   "metadata": {},
   "source": [
    "The exact same process can be applied to the non-removed set. "
   ]
  },
  {
   "cell_type": "code",
   "execution_count": null,
   "id": "c365f338",
   "metadata": {},
   "outputs": [],
   "source": [
    "import pandas as pd\n",
    "from tqdm import tqdm\n",
    "from neo4j import GraphDatabase\n",
    "\n",
    "#connecting to neo4j\n",
    "URI = \"bolt://localhost:7687\"\n",
    "AUTH = (\"user\", \"password\")\n",
    "\n",
    "with GraphDatabase.driver(URI, auth=AUTH) as driver:\n",
    "    driver.verify_connectivity()\n",
    "\n",
    "#loading in triples\n",
    "nonremoved_cpe2cve = []\n",
    "nonremoved_cpe2cve_df = pd.read_csv(\".../nonremoved_cpe2cve.csv\", usecols=[\"subject\", \"predicate\", \"object\"])\n",
    "for i,r in nonremoved_cpe2cve_df.iterrows():\n",
    "    nonremoved_cpe2cve.append([r['subject'],r['predicate'],r['object']])\n",
    "\n",
    "#setting up data structs\n",
    "cpe_properties_dict = {\n",
    "  \"Part\": {},\n",
    "  \"Target_sw\": {},\n",
    "  \"Target_hw\": {},\n",
    "  \"Product\": {},\n",
    "  \"Vendor\": {},\n",
    "  \"Name\": {}\n",
    "}\n",
    "\n",
    "cve_nodes = {}\n",
    "invalid_triples = []\n",
    "\n",
    "#progress bar\n",
    "from tqdm import tqdm\n",
    "progress = tqdm (range(len(nonremoved_cpe2cve)), desc=\"Progress\" ,position=0, leave=True, ascii=False, ncols=75)\n",
    "\n",
    "\n",
    "#query\n",
    "for triple in nonremoved_cpe2cve:\n",
    "    \n",
    "    progress.update(1)\n",
    "    \n",
    "    #cpe properties\n",
    "    query_string = \"match (p:CPE)-[:MatchingCVE]->(v:CVE)\\\n",
    "where p.Name = \\\"\" + triple[0] + \"\\\" AND v.Name = \\\"\" + triple[2] +\"\\\"\\\n",
    "return p, v\"\n",
    "\n",
    "    records, summary, keys = driver.execute_query(\n",
    "        query_string,\n",
    "        database_=\"neo4j\",\n",
    "    )\n",
    "    \n",
    "    if(records == []):\n",
    "        invalid_triples.append(triple)\n",
    "        continue\n",
    "        \n",
    "    current_props = records[0][0]._properties\n",
    "    for property_name in current_props:\n",
    "        property_value = current_props[property_name]\n",
    "        if property_value in cpe_properties_dict[property_name]:\n",
    "            cpe_properties_dict[property_name][property_value] += 1;\n",
    "        else:\n",
    "            cpe_properties_dict[property_name][property_value] = 1;\n",
    "    \n",
    "    #cve nodes\n",
    "    if triple[2] in cve_nodes:\n",
    "        cve_nodes[triple[2]] += 1;\n",
    "    else:\n",
    "        cve_nodes[triple[2]] = 1;\n",
    "    \n",
    "#saving\n",
    "import pickle \n",
    "with open('nonremoved_cpe_properties_counts_dict.pkl', 'wb') as f:\n",
    "    pickle.dump(cpe_properties_dict, f)\n",
    "\n",
    "with open('nonremoved_cve_names_counts.pkl', 'wb') as f:\n",
    "    pickle.dump(cve_nodes, f)"
   ]
  },
  {
   "cell_type": "markdown",
   "id": "1bf7ea64",
   "metadata": {},
   "source": [
    "## Converting to Percentage"
   ]
  },
  {
   "cell_type": "markdown",
   "id": "8169ce50",
   "metadata": {},
   "source": [
    "Since the scale of the two sets are drastically different, comparing the actual number of occurrences won't be productive as the non-removed set will vastly outnumber the removed set no matter what. Instead, we will divide the number of the occurrences by the length of the set to get a percentage of occurrences, and compare the two sets that way."
   ]
  },
  {
   "cell_type": "markdown",
   "id": "f4398616",
   "metadata": {},
   "source": [
    "Starting with the removed set, we can load our dicts via the `pickle` library if we're working in a new script. This isn't necessary if we were to still work in the same file that created the dict. "
   ]
  },
  {
   "cell_type": "code",
   "execution_count": null,
   "id": "f2d3c782",
   "metadata": {},
   "outputs": [],
   "source": [
    "import pickle\n",
    "with open('removed_cpe_properties_counts.pkl', 'rb') as f:\n",
    "    removed_cpe_properties_dict = pickle.load(f)\n",
    "\n",
    "with open('removed_cve_names_counts.pkl', 'rb') as f:\n",
    "    removed_cve_names = pickle.load(f)"
   ]
  },
  {
   "cell_type": "markdown",
   "id": "2cfb4cd0",
   "metadata": {},
   "source": [
    "In order to get the length to divide by, we need to load in our removed set if we hadn't already."
   ]
  },
  {
   "cell_type": "code",
   "execution_count": null,
   "id": "a49f0fc5",
   "metadata": {},
   "outputs": [],
   "source": [
    "import pandas as pd\n",
    "removed_cpe2cve = []\n",
    "removed_cpe2cve_df = pd.read_csv(\".../removed_cpe2cve.csv\", usecols=[\"subject\", \"predicate\", \"object\"])\n",
    "for i,r in removed_cpe2cve_df.iterrows():\n",
    "    removed_cpe2cve.append([r['subject'],r['predicate'],r['object']])"
   ]
  },
  {
   "cell_type": "markdown",
   "id": "87ed1ba1",
   "metadata": {},
   "source": [
    "We create a new dict with the same keys, but divide each old value by the length of our set, and optionally multiply that value to convert it to a 0-100 scale instead of a 0-1 scale. Then, we save our new dict with the `pickle` library."
   ]
  },
  {
   "cell_type": "code",
   "execution_count": null,
   "id": "c9c55a8e",
   "metadata": {},
   "outputs": [],
   "source": [
    "#cpe properties\n",
    "removed_property_percentage = {}\n",
    "for property_name in removed_cpe_properties_dict:\n",
    "    removed_property_percentage.update({property_name: {}})\n",
    "    for current_prop in removed_cpe_properties_dict[property_name]:\n",
    "        value = removed_cpe_properties_dict[property_name][current_prop]\n",
    "        removed_property_percentage[property_name].update({current_prop: value*100 / len(removed_cpe2cve)})\n",
    "            \n",
    "with open('removed_cpe_properties_percentages.pkl', 'wb') as f:\n",
    "    pickle.dump(removed_property_percentage, f)\n",
    "\n",
    "#cve names\n",
    "removed_cve_names_percentage = {}\n",
    "for node in removed_cve_names:\n",
    "    value = removed_cve_names[node]\n",
    "    removed_cve_names_percentage.update({node: value*100 / len(removed_cpe2cve)})\n",
    "with open('removed_cve_names_percentage.pkl', 'wb') as f:\n",
    "    pickle.dump(removed_cve_names_percentage, f)"
   ]
  },
  {
   "cell_type": "markdown",
   "id": "918740bf",
   "metadata": {},
   "source": [
    "The same process can be done for the non-removed set as well."
   ]
  },
  {
   "cell_type": "code",
   "execution_count": null,
   "id": "07031a1b",
   "metadata": {},
   "outputs": [],
   "source": [
    "#loading in data\n",
    "with open('nonremoved_cpe_properties_counts.pkl', 'rb') as f:\n",
    "    nonremoved_cpe_properties_dict = pickle.load(f)\n",
    "    \n",
    "with open('nonremoved_cve_names_counts.pkl', 'rb') as f:\n",
    "    nonremoved_cve_names = pickle.load(f)\n",
    "    \n",
    "nonremoved_cpe2cve = []\n",
    "nonremoved_cpe2cve_df = pd.read_csv(\".../nonremoved_cpe2cve.csv\", usecols=[\"subject\", \"predicate\", \"object\"])\n",
    "for i,r in nonremoved_cpe2cve_df.iterrows():\n",
    "    nonremoved_cpe2cve.append([r['subject'],r['predicate'],r['object']])\n",
    "\n",
    "#cpe properties\n",
    "nonremoved_property_percentage_list = {}\n",
    "for property_name in nonremoved_cpe_properties_dict:\n",
    "    nonremoved_property_percentage_list.update({property_name: {}})\n",
    "    for current_prop in nonremoved_cpe_properties_dict[property_name]:\n",
    "        value = nonremoved_cpe_properties_dict[property_name][current_prop]\n",
    "        nonremoved_property_percentage_list[property_name].update({current_prop: value*100 / len(nonremoved_cpe2cve)})\n",
    "\n",
    "with open('nonremoved_cpe_properties_percentages.pkl', 'wb') as f:\n",
    "    pickle.dump(nonremoved_property_percentage_list, f)\n",
    "\n",
    "#cve names\n",
    "nonremoved_cve_names_percentage = {}\n",
    "for node in nonremoved_cve_names:\n",
    "    value = nonremoved_cve_names[node]\n",
    "    nonremoved_cve_names_percentage.update({node: value*100 / len(nonremoved_cpe2cve)})\n",
    "with open('nonremoved_cve_names_percentage.pkl', 'wb') as f:\n",
    "    pickle.dump(nonremoved_cve_names_percentage, f)"
   ]
  },
  {
   "cell_type": "markdown",
   "id": "b63649aa",
   "metadata": {},
   "source": [
    "## Percentage Comparison"
   ]
  },
  {
   "cell_type": "markdown",
   "id": "2ffc61f2",
   "metadata": {},
   "source": [
    "We can now find the difference in percentage occurrences in the two sets to observe where the largest differences occur. "
   ]
  },
  {
   "cell_type": "markdown",
   "id": "ded17b38",
   "metadata": {},
   "source": [
    "To start, we load in the percentage dicts."
   ]
  },
  {
   "cell_type": "code",
   "execution_count": null,
   "id": "d52fe4bc",
   "metadata": {},
   "outputs": [],
   "source": [
    "import pickle \n",
    "with open('nonremoved_cpe_properties_percentages.pkl', 'rb') as f:\n",
    "    nonremoved_cpe_properties_percentages_dict = pickle.load(f)\n",
    "\n",
    "with open('removed_cpe_properties_percentages.pkl', 'rb') as f:\n",
    "    removed_cpe_properties_percentages_dict = pickle.load(f)\n"
   ]
  },
  {
   "cell_type": "markdown",
   "id": "4918be71",
   "metadata": {},
   "source": [
    "We first create a dict for the percentage difference, `cpe_property_difference_dict`, which be structured the same as the other dicts but contain the values of the percentage differences as each key's value. Then for each property in the removed set's dict, we get the percentage in the removed dict and set it to `removed_percentage`. <br>\n",
    "\n",
    "We look for the percentage for that same key in the non-removed set's dict and set it to `nonremoved_percentage`. If we can't find it, that means that key never showed up in the non-removed set, so we set the `nonremoved_percentage` to 0. <br>\n",
    "\n",
    "Lastly, we update `cpe_property_difference_dict` with our current property as our key and `removed_percentage - nonremoved_percentage` as its corresponding value"
   ]
  },
  {
   "cell_type": "code",
   "execution_count": null,
   "id": "fd58f844",
   "metadata": {},
   "outputs": [],
   "source": [
    "cpe_property_difference_dict = {}\n",
    "for property_name in removed_cpe_properties_percentages_dict:\n",
    "    cpe_property_difference_dict.update({property_name: {}})\n",
    "    for current_prop in removed_cpe_properties_percentages_dict[property_name]:\n",
    "        removed_percentage = removed_cpe_properties_percentages_dict[property_name][current_prop]\n",
    "        try:\n",
    "            nonremoved_percentage = nonremoved_cpe_properties_percentages_dict[property_name][current_prop]\n",
    "        except KeyError:\n",
    "            nonremoved_percentage = 0\n",
    "        cpe_property_difference_dict[property_name].update({current_prop: removed_percentage - nonremoved_percentage})\n",
    "    \n"
   ]
  },
  {
   "cell_type": "markdown",
   "id": "f3b6ed76",
   "metadata": {},
   "source": [
    "We have gotten the percentage difference for all the properties in the removed set's dict, but there may have been properties in the non-removed set's dict that never showed in the removed set's dict. So, we will need to repeat the process above by parsing through non-removed set's dict instead of the removed set's, skipping over any properties that were already covered."
   ]
  },
  {
   "cell_type": "code",
   "execution_count": null,
   "id": "e3850a18",
   "metadata": {},
   "outputs": [],
   "source": [
    "for property_name in nonremoved_cpe_properties_percentages_dict:\n",
    "    for current_prop in nonremoved_cpe_properties_percentages_dict[property_name]:\n",
    "        nonremoved_percentage = nonremoved_cpe_properties_percentages_dict[property_name][current_prop]\n",
    "        if current_prop in cpe_property_difference_dict:\n",
    "            continue;\n",
    "        \n",
    "        #should always fail the try since this is meant to only capture elements not in removed triples\n",
    "        try:\n",
    "            removed_percentage = removed_cpe_properties_percentages_dict[property_name][current_prop]\n",
    "        except KeyError:\n",
    "            removed_percentage = 0\n",
    "        cpe_property_difference_dict[property_name].update({current_prop: removed_percentage - nonremoved_percentage})\n",
    "    "
   ]
  },
  {
   "cell_type": "markdown",
   "id": "2e9d71a1",
   "metadata": {},
   "source": [
    "Since dicts are techincally unsorted data structures, we will convert our CPE node's property dict of dicts into a dict of tuples, which can be sorted. We will then sort by descending order of the absolute value of the our values in `cpe_property_difference_dict` in order to see what properties cause the largest difference."
   ]
  },
  {
   "cell_type": "code",
   "execution_count": null,
   "id": "70fbde93",
   "metadata": {},
   "outputs": [],
   "source": [
    "cpe_property_difference_tuple_sorted = {};\n",
    "for property_name in removed_cpe_properties_percentages_dict:\n",
    "    temp_dict = {property_name: sorted(cpe_property_difference_dict[property_name].items(), key=lambda item: abs(item[1]), reverse = True)}\n",
    "    cpe_property_difference_tuple_sorted.update(temp_dict)"
   ]
  },
  {
   "cell_type": "markdown",
   "id": "d4dd6ff9",
   "metadata": {},
   "source": [
    "We can then save our new data structure."
   ]
  },
  {
   "cell_type": "code",
   "execution_count": null,
   "id": "300f2029",
   "metadata": {},
   "outputs": [],
   "source": [
    "with open('cpe_property_difference_tuple_sorted.pkl', 'wb') as f:\n",
    "    pickle.dump(cpe_property_difference_tuple_sorted, f)"
   ]
  },
  {
   "cell_type": "markdown",
   "id": "25ba8cf7",
   "metadata": {},
   "source": [
    "Doing this with the CVE-names is a similiar process, though parsing through our dicts is actually a bit more straightforward since it isn't multi-dimensional like our CPE-properties dict."
   ]
  },
  {
   "cell_type": "code",
   "execution_count": null,
   "id": "45c0957c",
   "metadata": {},
   "outputs": [],
   "source": [
    "import pickle \n",
    "\n",
    "with open('nonremoved_cve_names_percentages.pkl', 'rb') as f:\n",
    "    nonremoved_cve_names_percentage_dict = pickle.load(f)\n",
    "\n",
    "with open('removed_cve_names_percentages.pkl', 'rb') as f:\n",
    "    removed_cve_names_percentage_dict = pickle.load(f)\n",
    "\n",
    "cve_names_difference_dict = {}\n",
    "for property_name in removed_cve_names_percentage_dict:\n",
    "    cve_names_difference_dict.update({property_name: {}})\n",
    "    removed_percentage = removed_cve_names_percentage_dict[property_name]\n",
    "    try:\n",
    "        nonremoved_percentage = nonremoved_cve_names_percentage_dict[property_name]\n",
    "    except KeyError:\n",
    "        nonremoved_percentage = 0\n",
    "    cve_names_difference_dict.update({property_name: removed_percentage - nonremoved_percentage})\n",
    "\n",
    "for property_name in nonremoved_cve_names_percentage_dict:\n",
    "    nonremoved_percentage = nonremoved_cve_names_percentage_dict[property_name]\n",
    "    \n",
    "    if property_name in cve_names_difference_dict:\n",
    "        continue;\n",
    "    \n",
    "    #should always fail the try since this is meant to only capture elements not in removed triples\n",
    "    try:\n",
    "        removed_percentage = removed_cve_names_percentage_dict[property_name]\n",
    "    except KeyError:\n",
    "        removed_percentage = 0\n",
    "        \n",
    "    cve_names_difference_dict.update({property_name: removed_percentage - nonremoved_percentage})\n",
    "\n",
    "\n",
    "cve_names_difference_tuple_sorted = sorted(cve_names_difference_dict.items(), key=lambda item: abs(item[1]), reverse = True);\n",
    "\n",
    "with open('cve_names_difference_tuple_sorted.pkl', 'wb') as f:\n",
    "    pickle.dump(cve_names_difference_tuple_sorted, f)"
   ]
  },
  {
   "cell_type": "markdown",
   "id": "c9040023",
   "metadata": {},
   "source": [
    "## Writing to `.xlsx` Files"
   ]
  },
  {
   "cell_type": "markdown",
   "id": "048ab715",
   "metadata": {},
   "source": [
    "We now have all the data we're looking for in the forms of python data structures. We can convert those into more readable and portable excel files via the `xlsxwriter` package."
   ]
  },
  {
   "cell_type": "markdown",
   "id": "d7224520",
   "metadata": {},
   "source": [
    "First, starting with our CPE-properties, we need to import in our relevant data structures if we're working in a seperate file than before."
   ]
  },
  {
   "cell_type": "code",
   "execution_count": null,
   "id": "1e2ab796",
   "metadata": {},
   "outputs": [],
   "source": [
    "import pickle \n",
    "\n",
    "with open('cpe_property_difference_tuple_sorted.pkl', 'rb') as f:\n",
    "    cpe_property_difference_tuple_sorted = pickle.load(f)\n",
    "\n",
    "with open('nonremoved_cpe_properties_percentages.pkl', 'rb') as f:\n",
    "    nonremoved_cpe_properties_percentages_dict = pickle.load(f)\n",
    "\n",
    "with open('removed_cpe_properties_percentages.pkl', 'rb') as f:\n",
    "    removed_cpe_properties_percentages_dict = pickle.load(f)\n",
    "\n",
    "with open('nonremoved_cpe_properties_counts.pkl', 'rb') as f:\n",
    "    nonremoved_cpe_properties_dict = pickle.load(f)\n",
    "\n",
    "with open('removed_cpe_properties_counts.pkl', 'rb') as f:\n",
    "    removed_cpe_properties_dict = pickle.load(f)"
   ]
  },
  {
   "cell_type": "markdown",
   "id": "67813b1d",
   "metadata": {},
   "source": [
    "We then create our excel file and add bold formatting for our headers if desired."
   ]
  },
  {
   "cell_type": "code",
   "execution_count": null,
   "id": "85058bde",
   "metadata": {},
   "outputs": [],
   "source": [
    "import xlsxwriter\n",
    "workbook = xlsxwriter.Workbook('cpe_properties_difference.xlsx')\n",
    "\n",
    "# Add a bold format\n",
    "bold = workbook.add_format({'bold': True})"
   ]
  },
  {
   "cell_type": "markdown",
   "id": "b5c55677",
   "metadata": {},
   "source": [
    "For each property type of a CPE node, we create a new sheet in our excel file. <br>\n",
    "\n",
    "Within that sheet, we will have a column for the specific property value/name, the percentage difference, the removed percentage, the non-removed percentage, the removed number of occurrences, and the non-removed number of occurrences. \n",
    "\n",
    "We then write into the worksheet the corrresponding value for each column for each property value/name."
   ]
  },
  {
   "cell_type": "code",
   "execution_count": null,
   "id": "64d7ab2d",
   "metadata": {},
   "outputs": [],
   "source": [
    "for property_name in cpe_property_difference_tuple_sorted:\n",
    "    worksheet = workbook.add_worksheet(property_name)\n",
    "    \n",
    "    worksheet.write(0, 0, property_name, bold)\n",
    "    worksheet.write(0, 1, \"Percentage Difference (Removed - Non-removed)\", bold)\n",
    "    worksheet.write(0, 2, \"Removed Percentage\", bold)\n",
    "    worksheet.write(0, 3, \"Non-removed Percentage\", bold)\n",
    "    worksheet.write(0, 4, \"Removed Occurrences\", bold)\n",
    "    worksheet.write(0, 5, \"Non-removed Occurrences\", bold)\n",
    "    \n",
    "    row = 1\n",
    "    for element in cpe_property_difference_tuple_sorted[property_name]:\n",
    "        worksheet.write(row, 0, element[0])\n",
    "        worksheet.write(row, 1, element[1])\n",
    "        \n",
    "        try:\n",
    "            current_removed_percentage = removed_cpe_properties_percentages_dict[property_name][element[0]]\n",
    "        except:\n",
    "            current_removed_percentage = 0\n",
    "        worksheet.write(row, 2, current_removed_percentage)\n",
    "        \n",
    "        try:\n",
    "            current_nonremoved_percentage = nonremoved_cpe_properties_percentages_dict[property_name][element[0]]\n",
    "        except:\n",
    "            current_nonremoved_percentage = 0\n",
    "        worksheet.write(row, 3, current_nonremoved_percentage)\n",
    "        \n",
    "        try:\n",
    "            removed_occurrences = removed_cpe_properties_dict[property_name][element[0]]\n",
    "        except:\n",
    "            removed_occurrences = 0\n",
    "        worksheet.write(row, 4, removed_occurrences)\n",
    "        \n",
    "        try:\n",
    "            nonremoved_occurrences = nonremoved_cpe_properties_dict[property_name][element[0]]\n",
    "        except:\n",
    "            nonremoved_occurrences = 0\n",
    "        worksheet.write(row, 5, nonremoved_occurrences)\n",
    "        \n",
    "        row += 1"
   ]
  },
  {
   "cell_type": "markdown",
   "id": "ed654e97",
   "metadata": {},
   "source": [
    "Finally, we close our file."
   ]
  },
  {
   "cell_type": "code",
   "execution_count": null,
   "id": "0211b711",
   "metadata": {},
   "outputs": [],
   "source": [
    "workbook.close()"
   ]
  },
  {
   "cell_type": "markdown",
   "id": "178f917c",
   "metadata": {},
   "source": [
    "We can do the same for the CVE names"
   ]
  },
  {
   "cell_type": "code",
   "execution_count": null,
   "id": "9ebe78b8",
   "metadata": {},
   "outputs": [],
   "source": [
    "import pickle\n",
    "with open('cve_names_difference_tuple_sorted.pkl', 'rb') as f:\n",
    "    cve_names_difference_tuple_sorted = pickle.load(f)\n",
    "\n",
    "with open('nonremoved_cve_names_percentages.pkl', 'rb') as f:\n",
    "    nonremoved_cve_names_percentage_dict = pickle.load(f)\n",
    "\n",
    "with open('removed_cve_names_percentages.pkl', 'rb') as f:\n",
    "    removed_cve_names_percentage_dict = pickle.load(f)\n",
    "\n",
    "with open('nonremoved_cve_names_counts.pkl', 'rb') as f:\n",
    "    nonremoved_cve_names_dict = pickle.load(f)\n",
    "    \n",
    "with open('removed_cve_names_counts.pkl', 'rb') as f:\n",
    "    removed_cve_names_dict = pickle.load(f)\n",
    "\n",
    "import xlsxwriter\n",
    "workbook = xlsxwriter.Workbook('cve_names_difference.xlsx')\n",
    "# Add a bold format\n",
    "bold = workbook.add_format({'bold': True})\n",
    "\n",
    "worksheet = workbook.add_worksheet(\"CVE Node\")\n",
    "\n",
    "worksheet.write(0, 0, \"CVE Name\", bold)\n",
    "worksheet.write(0, 1, \"Percentage Difference (Removed - Non-removed)\", bold)\n",
    "worksheet.write(0, 2, \"Removed percentage\", bold)\n",
    "worksheet.write(0, 3, \"Non-removed percentage\", bold)\n",
    "worksheet.write(0, 4, \"Removed Occurrences\", bold)\n",
    "worksheet.write(0, 5, \"Non-removed Occurrences\", bold)\n",
    "\n",
    "row = 1\n",
    "for element in cve_names_difference_tuple_sorted:\n",
    "    worksheet.write(row, 0, element[0])\n",
    "    worksheet.write(row, 1, element[1])\n",
    "    \n",
    "    try:\n",
    "        current_removed_percentage = nonremoved_cve_names_percentage_dict[element[0]]\n",
    "    except:\n",
    "        current_removed_percentage = 0\n",
    "    worksheet.write(row, 2, current_removed_percentage)\n",
    "    \n",
    "    try:\n",
    "        current_nonremoved_percentage = removed_cve_names_percentage_dict[element[0]]\n",
    "    except:\n",
    "        current_nonremoved_percentage = 0\n",
    "    worksheet.write(row, 3, current_nonremoved_percentage)\n",
    "    \n",
    "\n",
    "    try:\n",
    "        removed_occurrences = removed_cve_names_dict[element[0]]\n",
    "    except:\n",
    "        removed_occurrences = 0\n",
    "        \n",
    "    worksheet.write(row, 4, removed_occurrences)\n",
    "    \n",
    "    try:\n",
    "        nonremoved_occurrences = nonremoved_cve_names_dict[element[0]]\n",
    "    except:\n",
    "        nonremoved_occurrences = 0\n",
    "    worksheet.write(row, 5, nonremoved_occurrences)\n",
    "    \n",
    "    \n",
    "    row += 1\n",
    "    \n",
    "workbook.close()"
   ]
  },
  {
   "cell_type": "markdown",
   "id": "b95d7ea7",
   "metadata": {},
   "source": [
    "## Conclusion"
   ]
  },
  {
   "cell_type": "markdown",
   "id": "983d423f",
   "metadata": {},
   "source": [
    "The same process and code can be easily applied to CVE-CWE triples as well. \n",
    "\n",
    "We have our results from this process and discussion on them in a seperate document."
   ]
  }
 ],
 "metadata": {
  "kernelspec": {
   "display_name": "Python 3 (ipykernel)",
   "language": "python",
   "name": "python3"
  },
  "language_info": {
   "codemirror_mode": {
    "name": "ipython",
    "version": 3
   },
   "file_extension": ".py",
   "mimetype": "text/x-python",
   "name": "python",
   "nbconvert_exporter": "python",
   "pygments_lexer": "ipython3",
   "version": "3.11.5"
  }
 },
 "nbformat": 4,
 "nbformat_minor": 5
}
