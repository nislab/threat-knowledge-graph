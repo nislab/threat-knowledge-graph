{
 "cells": [
  {
   "attachments": {},
   "cell_type": "markdown",
   "metadata": {},
   "source": [
    "# Threat Knowledge Graph: Generation, Embedding, Evaluation, and Prediction\n",
    "\n",
    "\n",
    "This document shows how to generate the *threat knowledge graph* from the pre-processed `csv` files of CPE, CVE, and CWE. Then, it shows how to use [Ampligraph](https://docs.ampligraph.org/en/1.4.0/) to perform several tasks about the threat knowledge graph, including embedding, evaluation, and prediction.\n",
    "\n",
    "## Preparation\n",
    "\n",
    "First, import a few necessary Python packages for out tasks:"
   ]
  },
  {
   "cell_type": "code",
   "execution_count": 1,
   "metadata": {},
   "outputs": [],
   "source": [
    "import numpy as np\n",
    "import pandas as pd\n",
    "import ampligraph"
   ]
  },
  {
   "attachments": {},
   "cell_type": "markdown",
   "metadata": {},
   "source": [
    "In the following, we use **AmpliGraph version 1.4.0**. [This page](https://docs.ampligraph.org/en/1.4.0/install.html) provides a guide on the installation of AmpliGraph. Note that AmpliGraph 1.4.0 is built on TensorFlow 1.x, so correct version of TensorFlow needs to be installed first (and install [CUDA](https://developer.nvidia.com/cuda-downloads) support if using Nvidia GPU for training). \n",
    "\n",
    "**Note:** When installing Ampligraph 1.4.0, use command `pip install ampligraph==1.4.0`. As of June 28, 2023, the latest AmpliGraph version is [2.0.0](https://docs.ampligraph.org/en/latest/index.html), which was just released on March 7, 2023. It is based on TensorFlow 2.x and has updated APIs. Currently, this document does not work with AmpliGraph 2.0.0. We plan to adopt the latest versino of AmpliGraph and update the document in the future.\n",
    "\n",
    "After importing, check the version of AmpliGraph and make sure it is 1.4.0:"
   ]
  },
  {
   "cell_type": "code",
   "execution_count": 2,
   "metadata": {},
   "outputs": [
    {
     "data": {
      "text/plain": [
       "'1.4.0'"
      ]
     },
     "execution_count": 2,
     "metadata": {},
     "output_type": "execute_result"
    }
   ],
   "source": [
    "ampligraph.__version__"
   ]
  },
  {
   "attachments": {},
   "cell_type": "markdown",
   "metadata": {},
   "source": [
    "## Import the databases\n",
    "\n",
    "In order to better process the databases in `csv` format, we import the CPE, CVE, CWE files as [Pandas DataFrames](https://pandas.pydata.org/docs/reference/api/pandas.DataFrame.html). \n",
    "\n",
    "In the following, we mainly use the data on August 4, 2021 for demonstration.\n",
    "\n",
    "Import CPE (the CPE entries have already been merged by version, one future work is to find better ways of merging):"
   ]
  },
  {
   "cell_type": "code",
   "execution_count": 3,
   "metadata": {},
   "outputs": [],
   "source": [
    "# cpe_ignore_version.csv stores the cpes entries after merging by version\n",
    "df_cpe = pd.read_csv(\"../processed/csv_file/2021aug/cpe_ignore_version.csv\", usecols=['part','vendor',\n",
    "                'product','target_sw','target_hw','name','size']).sort_values(\n",
    "                'size', ascending=False)"
   ]
  },
  {
   "attachments": {},
   "cell_type": "markdown",
   "metadata": {},
   "source": [
    "Import CVE"
   ]
  },
  {
   "cell_type": "code",
   "execution_count": 4,
   "metadata": {},
   "outputs": [],
   "source": [
    "df_cve = pd.read_csv(\"../processed/csv_file/2021aug/cve/cve-2002.csv\")\n",
    "df_cve.fillna('*', inplace = True)\n",
    "for i in range(2003, 2022):\n",
    "    filename = '../processed/csv_file/2021aug/cve/cve-' + str(i) + '.csv'\n",
    "    df_temp = pd.read_csv(filename)\n",
    "    df_temp.fillna('*', inplace = True)\n",
    "    df_cve = df_cve.append(df_temp)"
   ]
  },
  {
   "attachments": {},
   "cell_type": "markdown",
   "metadata": {},
   "source": [
    "Import CWE, including weaknesses, categories, and views"
   ]
  },
  {
   "cell_type": "code",
   "execution_count": 5,
   "metadata": {},
   "outputs": [],
   "source": [
    "df_cwe = pd.read_csv(\"../processed/csv_file/2021aug/cwe.csv\")\n",
    "df_cwe.fillna('*', inplace=True)\n",
    "\n",
    "df_cwe_cate = pd.read_csv(\"../processed/csv_file/2021aug/cwe_category.csv\")\n",
    "df_cwe_view = pd.read_csv(\"../processed/csv_file/2021aug/cwe_view.csv\")\n",
    "df_cwe_cate.fillna('*', inplace=True)\n",
    "df_cwe_view.fillna('*', inplace=True)"
   ]
  },
  {
   "attachments": {},
   "cell_type": "markdown",
   "metadata": {},
   "source": [
    "We can double-check the row counts of the dataframes for this version (Aug 2021) of knowledge graph:"
   ]
  },
  {
   "cell_type": "code",
   "execution_count": 6,
   "metadata": {},
   "outputs": [
    {
     "name": "stdout",
     "output_type": "stream",
     "text": [
      "The size of df_cpe, df_cve, df_cwe are: 68338 167542 918\n"
     ]
    }
   ],
   "source": [
    "print(\"The size of df_cpe, df_cve, df_cwe are:\", df_cpe.shape[0], df_cve.shape[0], df_cwe.shape[0])"
   ]
  },
  {
   "attachments": {},
   "cell_type": "markdown",
   "metadata": {},
   "source": [
    "**Remark:** Note that the entire CWE is stored in three dataframes: `df_cwe` for weaknesses, `df_cwe_cate` for weakness categories, and `df_cwe_view` for weakness views. Currently, we take the weaknesses as the main entities (nodes) in the knowledge graph, while the other two types are considered as the attributes of weaknesses.\n",
    "In the future, perhaps we can merge them all into one dataframe, and differentiate them by labels (view, category, pillar, class, base, variant) according to the [CWE hierachy](https://cwe.mitre.org/documents/cwe_usage/guidance.html#helpful_resources).\n",
    "\n",
    "## Generate knowledge graph triples\n",
    "\n",
    "We generate knowledge graph triples ([head entity, relation, tail entity]) from the dataframes. The triples will be stored in a list (e.g., [[h1, r1, t1], [h2, r2, t2], ...]).\n",
    "\n",
    "We start with the CWE triples. The CWE Weakness entries are stored in `kg_cwe`, Category entries are stored in `kg_cate`, and View entries are stored in `kg_view`. In the meantime, we also save all the CWE entries in a list named `cwe_list` for later use."
   ]
  },
  {
   "cell_type": "code",
   "execution_count": 7,
   "metadata": {},
   "outputs": [],
   "source": [
    "cwe_list = []\n",
    "\n",
    "kg_cwe = []\n",
    "\n",
    "for i,r in df_cwe.iterrows():\n",
    "    cweid = r['ID']\n",
    "\n",
    "    cwe_list.append(cweid)\n",
    "\n",
    "    if (r['Related_Weakness'] != '*'):\n",
    "        relatedlist = r['Related_Weakness'].split(';')\n",
    "        for re in relatedlist:\n",
    "            relation, other = re.split(':')\n",
    "            other = 'CWE-' + other\n",
    "            kg_cwe.append(([cweid, relation, other]))\n",
    "\n",
    "    if (r['Language'] != '*'):\n",
    "        langlist = r['Language'].split(';')\n",
    "        for l in langlist:\n",
    "            if (l != 'Language-Independent'):\n",
    "                kg_cwe.append(([cweid, 'Language', l]))\n",
    "\n",
    "    if (r['Technology'] != '*'):\n",
    "        techlist = r['Technology'].split(';')\n",
    "        for t in techlist:\n",
    "            if (t != 'Technology-Independent'):\n",
    "                kg_cwe.append(([cweid, 'Technology', t]))\n",
    "\n",
    "    if (r['Likelihood_Of_Exploit'] != '*'):\n",
    "        kg_cwe.append(([cweid, 'LikelihoodOfExploit', \\\n",
    "                        r['Likelihood_Of_Exploit']]))\n",
    "\n",
    "    if (r['Consequence'] != '*'):\n",
    "        conseqlist = r['Consequence'].split(';')\n",
    "        for c in conseqlist:\n",
    "            if (c != 'Other'):\n",
    "                kg_cwe.append(([cweid, 'Consequence', c]))"
   ]
  },
  {
   "cell_type": "code",
   "execution_count": 8,
   "metadata": {},
   "outputs": [],
   "source": [
    "kg_cate = []\n",
    "kg_view = []\n",
    "\n",
    "for i,r in df_cwe_cate.iterrows():\n",
    "    cid = r['ID']\n",
    "\n",
    "    if (r['Has_Member'] != '*'):\n",
    "        memlist = r['Has_Member'].split(';')\n",
    "        for m in memlist:\n",
    "            kg_cate.append(([cid, 'Has_Member', m]))\n",
    "\n",
    "for i,r in df_cwe_view.iterrows():\n",
    "    vid = r['ID']\n",
    "\n",
    "    if (r['Has_Member'] != '*'):\n",
    "        memlist = r['Has_Member'].split(';')\n",
    "        for m in memlist:\n",
    "            kg_view.append(([vid, 'Has_Member', m]))"
   ]
  },
  {
   "attachments": {},
   "cell_type": "markdown",
   "metadata": {},
   "source": [
    "In [our previous paper](https://ieeexplore.ieee.org/abstract/document/9973028) published on IEEE SecDev 2022, we explained that, one optimization we made is to remove the CPE and CVE entries that are not connected to other nodes.\n",
    "\n",
    "For this purpose, we next generate a candidate list of valid CPE entries. Note that this is only a temporal list for filtering, we will remove CPE entries that are not associated (connected) to CVE entries (nodes) later."
   ]
  },
  {
   "cell_type": "code",
   "execution_count": 9,
   "metadata": {},
   "outputs": [],
   "source": [
    "cpe_candidate_list = []\n",
    "\n",
    "for i, r in df_cpe.iterrows():\n",
    "    cpe_candidate_list.append(r['name'])"
   ]
  },
  {
   "attachments": {},
   "cell_type": "markdown",
   "metadata": {},
   "source": [
    "As the CVE connects the CPE and CWE, we generate the CVE triples in two types: `kg_cpe2cve` includes the triples between CVE and CPE ([cpe-x, MatchingCVE, cve-y]), and `kg_cve2cwe` includes the triples between CVE and CWE ([cve-y, MatchingCWE, cwe-z]). The CVE dataframe also includes CVE entries without any connections to the other two databases, and we discard those entries. The triples related to CVE are stored in `kg_cve`, which will then be the combination of `kg_cpe2cve` and `kg_cve2cwe`.\n",
    "\n",
    "As there might exist a small portion of inconsistency between the CPE names in the CPE and CVE, we use `cpe_candidate_list` to filter out triples with invalid CPE names. We also use `cwe_list` to filter out invalid CWE names. `cve_candidate_list` has all the CVEs in the dataframe. \n",
    "\n",
    "We store the remaining CVE entries after filtering out unconnected nodes in a list called `connected_cvelist`. In the meantime, the remaining CPE entries are stored in the list `connected_cpelist`."
   ]
  },
  {
   "cell_type": "code",
   "execution_count": 10,
   "metadata": {},
   "outputs": [],
   "source": [
    "cve_candidate_list = []\n",
    "connected_cvelist = []\n",
    "\n",
    "kg_cve = []\n",
    "kg_cpe2cve = []\n",
    "kg_cve2cwe = []\n",
    "\n",
    "connected_cpelist = [] # for saving cpes that are connected to cves\n",
    "\n",
    "for i,r in df_cve.iterrows():\n",
    "    cveid = r['ID']\n",
    "    cve_candidate_list.append(cveid)\n",
    "    is_connected = 0\n",
    "\n",
    "    if (r['MatchingCPE'] != '*'):\n",
    "        cpes_related = r['MatchingCPE'].split(';')\n",
    "        plist = []\n",
    "        for p in cpes_related:\n",
    "\n",
    "            # replace characters that may cause problems\n",
    "            p = p.replace('\\,', '\\.')\n",
    "            p = p.replace('\\:', '\\;')\n",
    "            p = p.replace('\"', \"'\")\n",
    "\n",
    "            p_detail = p.split(':')\n",
    "            pp = ':'.join(['cpe']+p_detail[2:5]+p_detail[10:12])\n",
    "            if (pp not in plist)  and (pp in cpe_candidate_list):\n",
    "                matchcpe = [pp, 'MatchingCVE', cveid]\n",
    "                kg_cpe2cve.append((matchcpe))\n",
    "                is_connected += 1\n",
    "\n",
    "            if pp not in connected_cpelist and (pp in cpe_candidate_list):\n",
    "                connected_cpelist.append(pp)\n",
    "\n",
    "            plist.append(pp)\n",
    "\n",
    "        if (r['MatchingCWE'] != '*' and r['MatchingCWE'] != 'NVD-CWE-Other' and r['MatchingCWE'] != 'NVD-CWE-noinfo'):\n",
    "            cwelist = r['MatchingCWE'].split(';')\n",
    "            for w in cwelist:\n",
    "                if (w != 'NVD-CWE-noinfo') and (w in cwe_list):\n",
    "                    matchcwe = [cveid, 'MatchingCWE', w]\n",
    "                    kg_cve2cwe.append((matchcwe))\n",
    "                    is_connected += 1\n",
    "\n",
    "    if is_connected:\n",
    "        connected_cvelist.append(cveid)\n",
    "        is_connected = 0\n",
    "\n",
    "kg_cve = kg_cpe2cve + kg_cve2cwe"
   ]
  },
  {
   "attachments": {},
   "cell_type": "markdown",
   "metadata": {},
   "source": [
    "There are a few things worth mentioning about this process: (i) in the CVE dataframe, the matched CPEs are not merged, so we need to produce its merged name as `pp`; (ii) due to merging CPEs, we will have duplicate triples, so we maintain `plist` to avoid duplication; (iii) if a CVE is matched to `NVD-CWE-Other` or `NVD-CWE-noinfo`, we simply discard those mappings; (iv) if `is_connected` is positive, the CVE is connected and will be added to `connected_cvelist`.\n",
    "\n",
    "As the code block above can take a while to run, we would like to store `connected_cpelist` and `connected_cvelist` in a separate file, which will be used often in the following. (The CWE list can be stored similarly.)"
   ]
  },
  {
   "cell_type": "code",
   "execution_count": 11,
   "metadata": {},
   "outputs": [
    {
     "name": "stdout",
     "output_type": "stream",
     "text": [
      "File written successfully\n"
     ]
    }
   ],
   "source": [
    "# save connected_cpelist locally\n",
    "with open('.\\saved\\cpelist_connected.txt', 'w') as f:\n",
    "    for items in connected_cpelist:\n",
    "        f.write('%s\\n' %items)\n",
    "    print(\"File written successfully\")\n",
    "f.close()"
   ]
  },
  {
   "cell_type": "code",
   "execution_count": 12,
   "metadata": {},
   "outputs": [
    {
     "name": "stdout",
     "output_type": "stream",
     "text": [
      "File written successfully\n"
     ]
    }
   ],
   "source": [
    "# save connected_cvelist locally\n",
    "with open('.\\saved\\cvelist_connected.txt', 'w') as f:\n",
    "    for items in connected_cvelist:\n",
    "        f.write('%s\\n' %items)\n",
    "    print(\"File written successfully\")\n",
    "f.close()"
   ]
  },
  {
   "cell_type": "code",
   "execution_count": 8,
   "metadata": {},
   "outputs": [],
   "source": [
    "# load connected_cpelist\n",
    "f = open('.\\saved\\cpelist_connected.txt', 'r')\n",
    "connected_cpelist = f.read().splitlines()\n",
    "f.close()"
   ]
  },
  {
   "cell_type": "code",
   "execution_count": 9,
   "metadata": {},
   "outputs": [],
   "source": [
    "# load connected_cvelist\n",
    "f = open('.\\saved\\cvelist_connected.txt', 'r')\n",
    "connected_cvelist = f.read().splitlines()\n",
    "f.close()"
   ]
  },
  {
   "attachments": {},
   "cell_type": "markdown",
   "metadata": {},
   "source": [
    "`kg_cpe2cve` and `kg_cve2cwe` are also important, as these two types of triples are exactly what we will try to predict with the knowledge graph. Thus, it is worthwhile to save them to separate files as well."
   ]
  },
  {
   "cell_type": "code",
   "execution_count": 15,
   "metadata": {},
   "outputs": [],
   "source": [
    "# save kg_cpe2cve and kg_cve2cwe locally\n",
    "cpe2cve_df = pd.DataFrame(kg_cpe2cve, columns=[\"subject\", \"predicate\", \"object\"])\n",
    "cpe2cve_df.to_csv('./saved/cpe2cve-aug2021.csv', index=False)\n",
    "\n",
    "cve2cwe_df = pd.DataFrame(kg_cve2cwe, columns=[\"subject\", \"predicate\", \"object\"])\n",
    "cve2cwe_df.to_csv('./saved/cve2cwe-aug2021.csv', index=False)"
   ]
  },
  {
   "cell_type": "code",
   "execution_count": 10,
   "metadata": {},
   "outputs": [],
   "source": [
    "# load kg_cpe2cve and kg_cve2cwe\n",
    "kg_cpe2cve = []\n",
    "kg_cve2cwe = []\n",
    "\n",
    "kg_cpe2cve_df = pd.read_csv(\"./saved/cpe2cve-aug2021.csv\")\n",
    "for i,r in kg_cpe2cve_df.iterrows():\n",
    "    kg_cpe2cve.append([r['subject'],r['predicate'],r['object']])\n",
    "\n",
    "kg_cve2cwe_df = pd.read_csv(\"./saved/cve2cwe-aug2021.csv\")\n",
    "for i,r in kg_cve2cwe_df.iterrows():\n",
    "    kg_cve2cwe.append([r['subject'],r['predicate'],r['object']])\n",
    "\n",
    "kg_cve = kg_cpe2cve + kg_cve2cwe"
   ]
  },
  {
   "attachments": {},
   "cell_type": "markdown",
   "metadata": {},
   "source": [
    "After getting `connected_cpelist`, we are able to generate triples about the connected CPEs, saved in `kg_cpe`"
   ]
  },
  {
   "cell_type": "code",
   "execution_count": 11,
   "metadata": {},
   "outputs": [],
   "source": [
    "kg_cpe = []\n",
    "\n",
    "for i, r in df_cpe.iterrows():\n",
    "    cpeid = r['name']\n",
    "\n",
    "    if cpeid in connected_cpelist:\n",
    "        kg_cpe.append([cpeid, \"Part\", r['part']])\n",
    "        kg_cpe.append([cpeid, \"Vendor\", r['vendor']])\n",
    "        kg_cpe.append([cpeid, \"Product\", r['product']])\n",
    "        if (r['target_sw'] != \"*\"):\n",
    "            kg_cpe.append([cpeid, \"Target_sw\", r['target_sw']])\n",
    "        if (r['target_hw'] != \"*\"):\n",
    "            kg_cpe.append([cpeid, \"Target_hw\", r['target_hw']])"
   ]
  },
  {
   "attachments": {},
   "cell_type": "markdown",
   "metadata": {},
   "source": [
    "With all the lists of triples, we are ready to combine them to get the entire knowledge graph"
   ]
  },
  {
   "cell_type": "code",
   "execution_count": 14,
   "metadata": {},
   "outputs": [],
   "source": [
    "triples = kg_cpe + kg_cve + kg_cwe + kg_cate + kg_view"
   ]
  },
  {
   "attachments": {},
   "cell_type": "markdown",
   "metadata": {},
   "source": [
    "The entire knowledge graph in triple form can be saved and read as a local file"
   ]
  },
  {
   "cell_type": "code",
   "execution_count": 88,
   "metadata": {},
   "outputs": [],
   "source": [
    "# save knowledge graph triples locally\n",
    "triples_df = pd.DataFrame(triples, columns=[\"subject\", \"predicate\", \"object\"])\n",
    "triples_df.to_csv('./saved/kg_demo_aug2021.csv', index=False)"
   ]
  },
  {
   "cell_type": "code",
   "execution_count": 12,
   "metadata": {},
   "outputs": [],
   "source": [
    "# load knowledge graph triples\n",
    "triples = []\n",
    "triples_df = pd.read_csv(\"./saved/kg_demo_aug2021.csv\", usecols=[\"subject\", \"predicate\", \"object\"])\n",
    "\n",
    "for i,r in triples_df.iterrows():\n",
    "    triples.append([r['subject'],r['predicate'],r['object']])"
   ]
  },
  {
   "attachments": {},
   "cell_type": "markdown",
   "metadata": {},
   "source": [
    "We can double-check the size of the knowledge graph, which is (390138, 3) in our case."
   ]
  },
  {
   "cell_type": "code",
   "execution_count": 13,
   "metadata": {},
   "outputs": [
    {
     "data": {
      "text/plain": [
       "(390138, 3)"
      ]
     },
     "execution_count": 13,
     "metadata": {},
     "output_type": "execute_result"
    }
   ],
   "source": [
    "triples_df.shape"
   ]
  },
  {
   "attachments": {},
   "cell_type": "markdown",
   "metadata": {},
   "source": [
    "## Knowledge graph embedding\n",
    "\n",
    "Now that we have the threat knowledge graph stored as a list of triples, we can perform the task of knowledge graph embedding, which translates the entities and relations in triples as vectors in a vector space.\n",
    "\n",
    "To prepare for training the embedding model, we split the knowledge graph into training set and test set. We set the size of test set as 10,000. `X_train` and `X_valid` will be two numpy arrays that contain the training and test set, respectively."
   ]
  },
  {
   "cell_type": "code",
   "execution_count": 22,
   "metadata": {},
   "outputs": [],
   "source": [
    "from ampligraph.evaluation import train_test_split_no_unseen\n",
    "\n",
    "X_train, X_valid = train_test_split_no_unseen(np.array(triples), test_size=10000)"
   ]
  },
  {
   "attachments": {},
   "cell_type": "markdown",
   "metadata": {},
   "source": [
    "Note that the train-test split is performed randomly using built-in fuction of Ampligraph. Ampligraph makes sure that the test set contains only entities and relations which also occur in the training set. For the reproducibility of our results, we can store the training and test sets as `csv` files."
   ]
  },
  {
   "cell_type": "code",
   "execution_count": 91,
   "metadata": {},
   "outputs": [],
   "source": [
    "# save training and test sets locally\n",
    "train_df = pd.DataFrame(X_train, columns=[\"subject\", \"predicate\", \"object\"])\n",
    "train_df.to_csv('./saved/kg_demo_train_aug2021.csv', index=False)\n",
    "\n",
    "valid_df = pd.DataFrame(X_valid, columns=[\"subject\", \"predicate\", \"object\"])\n",
    "valid_df.to_csv('./saved/kg_demo_valid_aug2021.csv', index=False)"
   ]
  },
  {
   "cell_type": "code",
   "execution_count": 14,
   "metadata": {},
   "outputs": [],
   "source": [
    "# load local training and test sets\n",
    "train_df = pd.read_csv(\"./saved/kg_demo_train_aug2021.csv\", usecols=[\"subject\", \"predicate\", \"object\"])\n",
    "valid_df = pd.read_csv(\"./saved/kg_demo_valid_aug2021.csv\", usecols=[\"subject\", \"predicate\", \"object\"])\n",
    "\n",
    "X_train = train_df.to_numpy()\n",
    "X_valid = valid_df.to_numpy()"
   ]
  },
  {
   "attachments": {},
   "cell_type": "markdown",
   "metadata": {},
   "source": [
    "We can double-check the size of training and test sets and make sure they add up to the size of the entire knowledge graph."
   ]
  },
  {
   "cell_type": "code",
   "execution_count": 15,
   "metadata": {},
   "outputs": [
    {
     "name": "stdout",
     "output_type": "stream",
     "text": [
      "Train set size:  (380138, 3)\n",
      "Test set size:  (10000, 3)\n"
     ]
    }
   ],
   "source": [
    "print('Train set size: ', X_train.shape)\n",
    "print('Test set size: ', X_valid.shape)"
   ]
  },
  {
   "attachments": {},
   "cell_type": "markdown",
   "metadata": {},
   "source": [
    "Ampligraph has provided a few built-in embedding models, including TransE, DistMult, ComplEx, and HolE. The models that we tested are listed below, with sets of good parameters we used (the parameters can be further fine-tuned). The explanations of the parameters can be found on [Ampligraph website](https://docs.ampligraph.org/en/1.4.0/generated/ampligraph.latent_features.TransE.html#ampligraph.latent_features.TransE)."
   ]
  },
  {
   "cell_type": "code",
   "execution_count": 16,
   "metadata": {},
   "outputs": [],
   "source": [
    "from ampligraph.latent_features import TransE, DistMult, ComplEx\n",
    "\n",
    "model_transe = TransE(batches_count=50,\n",
    "                epochs=300,\n",
    "                k=100,\n",
    "                eta=20,\n",
    "                embedding_model_params={'corrupt_sides': ['s,o'], 'negative_corruption_entities': 'batch'},\n",
    "                optimizer='adam',\n",
    "                optimizer_params={'lr':1e-4},\n",
    "                loss='multiclass_nll',\n",
    "                regularizer=\"LP\",\n",
    "                regularizer_params={'p':3, 'lambda':1e-5},\n",
    "                seed=0,\n",
    "                verbose=True)\n",
    "\n",
    "model_distmult = DistMult(batches_count=50,\n",
    "                epochs=300,\n",
    "                k=300,\n",
    "                eta=20,\n",
    "                embedding_model_params={'corrupt_sides': ['s,o'], 'negative_corruption_entities': 'batch'},\n",
    "                optimizer='adam',\n",
    "                optimizer_params={'lr':1e-4},\n",
    "                loss='multiclass_nll',\n",
    "                regularizer='LP',\n",
    "                regularizer_params={'p':3, 'lambda':1e-5},\n",
    "                seed=0,\n",
    "                verbose=True)\n",
    "\n",
    "model_complex = ComplEx(batches_count=50,\n",
    "                epochs=300,\n",
    "                k=200,\n",
    "                eta=20,\n",
    "                embedding_model_params={'corrupt_sides': ['s,o'], 'negative_corruption_entities': 'batch'},\n",
    "                optimizer='adam',\n",
    "                optimizer_params={'lr':1e-4},\n",
    "                loss='multiclass_nll',\n",
    "                regularizer='LP',\n",
    "                regularizer_params={'p':3, 'lambda':1e-5},\n",
    "                seed=0,\n",
    "                verbose=True)"
   ]
  },
  {
   "attachments": {},
   "cell_type": "markdown",
   "metadata": {},
   "source": [
    "By comparing the three models, we found that using TransE model yielded the best embedding metrics. In the following, we will use TransE model with the parameters specified above as an example.\n",
    "\n",
    "Next, we train the embedding model with `X_train` from our knowledge graph"
   ]
  },
  {
   "cell_type": "code",
   "execution_count": 60,
   "metadata": {},
   "outputs": [
    {
     "name": "stderr",
     "output_type": "stream",
     "text": [
      "Average TransE Loss:   0.188538: 100%|██████████| 300/300 [05:24<00:00,  1.08s/epoch]\n"
     ]
    }
   ],
   "source": [
    "import tensorflow as tf\n",
    "tf.logging.set_verbosity(tf.logging.ERROR)\n",
    "\n",
    "model_transe.fit(X_train)"
   ]
  },
  {
   "attachments": {},
   "cell_type": "markdown",
   "metadata": {},
   "source": [
    "We can save the trained model locally for reuse:"
   ]
  },
  {
   "cell_type": "code",
   "execution_count": 61,
   "metadata": {},
   "outputs": [],
   "source": [
    "# save trained embedding model locally\n",
    "from ampligraph.latent_features import save_model\n",
    "save_model(model_transe, './saved/kg_demo_model_transe_aug2021.pkl')"
   ]
  },
  {
   "cell_type": "code",
   "execution_count": 17,
   "metadata": {},
   "outputs": [],
   "source": [
    "# load trained embedding model\n",
    "from ampligraph.latent_features import restore_model\n",
    "model_transe = restore_model('./saved/kg_demo_model_transe_aug2021.pkl')"
   ]
  },
  {
   "attachments": {},
   "cell_type": "markdown",
   "metadata": {},
   "source": [
    "The quality of embedding is typically evaluated by a few [embedding metrics](https://docs.ampligraph.org/en/1.4.0/ampligraph.evaluation.html#metrics), including Mean Rank, Mean Reciprocal Rank, and Hits@N Scores. These metrics can also be used for evaluating how well the future triples can be predicted.\n",
    "\n",
    "In order to compute the embedding metrics, Ampligraph requires a list of \"filter triples\", which is used for filtering out positive triples when it randomly generating negative triples. This can be set as all the knowledge graph triples, which we know are positive:"
   ]
  },
  {
   "cell_type": "code",
   "execution_count": 18,
   "metadata": {},
   "outputs": [],
   "source": [
    "filter_triples = np.concatenate((X_train, X_valid))"
   ]
  },
  {
   "attachments": {},
   "cell_type": "markdown",
   "metadata": {},
   "source": [
    "Then, the embedding metrics can be computed using the test set, using AmpliGraph's [`evaluate_performance`](https://docs.ampligraph.org/en/1.4.0/generated/ampligraph.evaluation.evaluate_performance.html#ampligraph.evaluation.evaluate_performance) function. Each triple in the test set will be ranked (ordered) against the negative triples. The negative triples are generated by replacing the head or tail entity of the test triple by other valid entities, and discarding triples specified by `filter_triples`. "
   ]
  },
  {
   "cell_type": "code",
   "execution_count": 63,
   "metadata": {},
   "outputs": [
    {
     "name": "stdout",
     "output_type": "stream",
     "text": [
      "WARNING - You are attempting to use 185306 distinct entities to generate synthetic negatives in the evaluation\n",
      "    protocol. This may be unnecessary and will lead to a 'harder' task. Besides, it will lead to a much slower\n",
      "    evaluation procedure. We recommended to set the 'corruption_entities' argument to a reasonably sized set\n",
      "    of entities. The size of corruption_entities depends on your domain-specific task.\n"
     ]
    },
    {
     "name": "stderr",
     "output_type": "stream",
     "text": [
      "d:\\Softwares\\Anaconda\\envs\\ampligraph\\lib\\site-packages\\ampligraph\\evaluation\\protocol.py:952: UserWarning: You are attempting to use 185306 distinct entities to generate synthetic negatives in the evaluation\n",
      "    protocol. This may be unnecessary and will lead to a 'harder' task. Besides, it will lead to a much slower\n",
      "    evaluation procedure. We recommended to set the 'corruption_entities' argument to a reasonably sized set\n",
      "    of entities. The size of corruption_entities depends on your domain-specific task.\n",
      "  warnings.warn(warn_msg % ent_for_corruption_size)\n",
      "100%|██████████| 10000/10000 [02:35<00:00, 64.13it/s]\n"
     ]
    }
   ],
   "source": [
    "from ampligraph.evaluation import evaluate_performance\n",
    "\n",
    "ranks = evaluate_performance(X_valid,\n",
    "                             model=model_transe,\n",
    "                             filter_triples=filter_triples,\n",
    "                             verbose=True)"
   ]
  },
  {
   "attachments": {},
   "cell_type": "markdown",
   "metadata": {},
   "source": [
    "**Remark:** In fact, it is not recommended to use all the entities when generating the negative triples, so we will get a warning here. Nonetheless, it is a convenient way to roughly evaluate the overall embedding quality.\n",
    "\n",
    "We can then print the embedding metrics."
   ]
  },
  {
   "cell_type": "code",
   "execution_count": 64,
   "metadata": {},
   "outputs": [
    {
     "name": "stdout",
     "output_type": "stream",
     "text": [
      "MRR: 0.279\n",
      "MR: 13471.000\n",
      "Hits@20: 0.430\n",
      "Hits@10: 0.386\n",
      "Hits@3: 0.304\n",
      "Hits@1: 0.224\n"
     ]
    }
   ],
   "source": [
    "from ampligraph.evaluation import mr_score, mrr_score, hits_at_n_score\n",
    "\n",
    "mr = mr_score(ranks)\n",
    "mrr = mrr_score(ranks)\n",
    "\n",
    "print(\"MRR: %.3f\" % (mrr))\n",
    "print(\"MR: %.3f\" % (mr))\n",
    "\n",
    "hits_20 = hits_at_n_score(ranks, n=20)\n",
    "print(\"Hits@20: %.3f\" % (hits_20))\n",
    "hits_10 = hits_at_n_score(ranks, n=10)\n",
    "print(\"Hits@10: %.3f\" % (hits_10))\n",
    "hits_3 = hits_at_n_score(ranks, n=3)\n",
    "print(\"Hits@3: %.3f\" % (hits_3))\n",
    "hits_1 = hits_at_n_score(ranks, n=1)\n",
    "print(\"Hits@1: %.3f\" % (hits_1))"
   ]
  },
  {
   "attachments": {},
   "cell_type": "markdown",
   "metadata": {},
   "source": [
    "In addition to the overall metrics for the entire knowledge graph, we can also get the metrics for specific types of triples, which are CPE-CVE and CVE-CWE triples in our case.\n",
    "\n",
    "To do so, we need to update the test set, such that it only contains CPE-CVE or CVE-CWE triples. As a result, we have two new test sets `test_pv` and `test_vw` selected from the previous test set."
   ]
  },
  {
   "cell_type": "code",
   "execution_count": 19,
   "metadata": {},
   "outputs": [],
   "source": [
    "test_pv = []\n",
    "test_vw = []\n",
    "for r in X_valid:\n",
    "    if r[1] == \"MatchingCVE\":\n",
    "        test_pv.append(r)\n",
    "    elif r[1] == \"MatchingCWE\":\n",
    "        test_vw.append(r)"
   ]
  },
  {
   "attachments": {},
   "cell_type": "markdown",
   "metadata": {},
   "source": [
    "For CPE-CVE triples, we replace the CPE side by other valid CPEs from `connected_cpelist` when generating negative triples. Generating negative triples from the triples in the test set is also called \"corruption\". The `corrupt_side` parameter specifies the side to replace, where `s` represents subject (head entity) and `o` represents object (tail entity). The `entities_subset` parameter specifies the entities for replacement. Here, we set `corrupt_side='s'` and `entities_subset=connected_cpelist`.\n",
    "\n",
    "**Remark:** The metrics will also reflect how well we can predict CPEs that are associated to a given CVE (closed-world evaluation). Predicting in the other direction (CPE->CVE) does not give good performance, so we skip it here. In general, we get good metrics when predicting the smaller side (CPE, CWE) given the larger side (CVE)."
   ]
  },
  {
   "cell_type": "code",
   "execution_count": 65,
   "metadata": {},
   "outputs": [
    {
     "name": "stderr",
     "output_type": "stream",
     "text": [
      "d:\\Softwares\\Anaconda\\envs\\ampligraph\\lib\\site-packages\\ampligraph\\latent_features\\models\\EmbeddingModel.py:1329: FutureWarning: elementwise comparison failed; returning scalar instead, but in the future will perform elementwise comparison\n",
      "  if corruption_entities == 'all':\n",
      "100%|██████████| 5576/5576 [00:24<00:00, 228.71it/s]\n"
     ]
    }
   ],
   "source": [
    "ranks = evaluate_performance(np.array(test_pv),\n",
    "                             model=model_transe,\n",
    "                             filter_triples=filter_triples,\n",
    "                             entities_subset=connected_cpelist,\n",
    "                             corrupt_side='s',\n",
    "                             verbose=True)"
   ]
  },
  {
   "cell_type": "code",
   "execution_count": 66,
   "metadata": {},
   "outputs": [
    {
     "name": "stdout",
     "output_type": "stream",
     "text": [
      "MRR: 0.423\n",
      "MR: 1777.968\n",
      "Hits@20: 0.626\n",
      "Hits@10: 0.579\n",
      "Hits@3: 0.463\n",
      "Hits@1: 0.345\n"
     ]
    }
   ],
   "source": [
    "mr = mr_score(ranks)\n",
    "mrr = mrr_score(ranks)\n",
    "\n",
    "print(\"MRR: %.3f\" % (mrr))\n",
    "print(\"MR: %.3f\" % (mr))\n",
    "\n",
    "hits_20 = hits_at_n_score(ranks, n=20)\n",
    "print(\"Hits@20: %.3f\" % (hits_20))\n",
    "hits_10 = hits_at_n_score(ranks, n=10)\n",
    "print(\"Hits@10: %.3f\" % (hits_10))\n",
    "hits_3 = hits_at_n_score(ranks, n=3)\n",
    "print(\"Hits@3: %.3f\" % (hits_3))\n",
    "hits_1 = hits_at_n_score(ranks, n=1)\n",
    "print(\"Hits@1: %.3f\" % (hits_1))"
   ]
  },
  {
   "attachments": {},
   "cell_type": "markdown",
   "metadata": {},
   "source": [
    "Similarly, we can get rank-based metrics for CVE->CWE triples, by replacing the CWE side with other valid CWEs in `cwe_list`. For this purpose, we set `corrupt_side='o'` (i.e., tail entity) and `entities_subset=cwe_list`."
   ]
  },
  {
   "cell_type": "code",
   "execution_count": 67,
   "metadata": {},
   "outputs": [
    {
     "name": "stderr",
     "output_type": "stream",
     "text": [
      "100%|██████████| 2332/2332 [00:32<00:00, 72.24it/s]\n"
     ]
    }
   ],
   "source": [
    "ranks = evaluate_performance(np.array(test_vw),\n",
    "                             model=model_transe,\n",
    "                             filter_triples=filter_triples,\n",
    "                             entities_subset=cwe_list,\n",
    "                             corrupt_side='o',\n",
    "                             verbose=True)"
   ]
  },
  {
   "cell_type": "code",
   "execution_count": 68,
   "metadata": {},
   "outputs": [
    {
     "name": "stdout",
     "output_type": "stream",
     "text": [
      "MRR: 0.419\n",
      "MR: 16.091\n",
      "Hits@20: 0.813\n",
      "Hits@10: 0.705\n",
      "Hits@3: 0.480\n",
      "Hits@1: 0.283\n"
     ]
    }
   ],
   "source": [
    "mr = mr_score(ranks)\n",
    "mrr = mrr_score(ranks)\n",
    "\n",
    "print(\"MRR: %.3f\" % (mrr))\n",
    "print(\"MR: %.3f\" % (mr))\n",
    "\n",
    "hits_20 = hits_at_n_score(ranks, n=20)\n",
    "print(\"Hits@20: %.3f\" % (hits_20))\n",
    "hits_10 = hits_at_n_score(ranks, n=10)\n",
    "print(\"Hits@10: %.3f\" % (hits_10))\n",
    "hits_3 = hits_at_n_score(ranks, n=3)\n",
    "print(\"Hits@3: %.3f\" % (hits_3))\n",
    "hits_1 = hits_at_n_score(ranks, n=1)\n",
    "print(\"Hits@1: %.3f\" % (hits_1))"
   ]
  },
  {
   "attachments": {},
   "cell_type": "markdown",
   "metadata": {},
   "source": [
    "It is good to see that the metrics for CPE-CVE or CVE-CWE triples are even better than those for the entire knowledge graph, since these two types of triples are what we really want to predict.\n",
    "\n",
    "## Predict new triples: MR, MRR, Hits@N\n",
    "\n",
    "We can use the embedded knowledge graph to predict unknown triples that are similar to the existing ones. To do so, we feed a new triple to the trained embedding model, which will score the triple - the higher the score is, the more likely the triple is positive.\n",
    "\n",
    "In this section, we evaluate how well the triples between Aug 4, 2021 and Nov 1, 2022 can be predicted, using the embedding model trained by the Aug 2021 version of knowledge graph (open-world evaluation).\n",
    "\n",
    "Under the `Tutorials/intro_ampligraph/saved/` folder, we have stored Nov 2022 version of `kg_cpe2cve` (`cpe2cve-nov2022.csv`) and `kg_cve2cwe` (`cve2cwe-nov2022.csv`) for this demonstration. Using them, we can get the new triples since Aug 2021.\n",
    "\n",
    "First, we load the Nov 2022 version of `kg_cpe2cve` and `kg_cve2cwe` from saved files."
   ]
  },
  {
   "cell_type": "code",
   "execution_count": 20,
   "metadata": {},
   "outputs": [],
   "source": [
    "kg_cpe2cve_nov2022 = []\n",
    "\n",
    "kg_cpe2cve_nov2022_df = pd.read_csv(\"./saved/cpe2cve-nov2022.csv\")\n",
    "for i,r in kg_cpe2cve_nov2022_df.iterrows():\n",
    "    kg_cpe2cve_nov2022.append([r['subject'],r['predicate'],r['object']])\n",
    "\n",
    "kg_cve2cwe_nov2022 = []\n",
    "\n",
    "kg_cve2cwe_2022_df = pd.read_csv(\"./saved/cve2cwe-nov2022.csv\")\n",
    "for i,r in kg_cve2cwe_2022_df.iterrows():\n",
    "    kg_cve2cwe_nov2022.append([r['subject'],r['predicate'],r['object']])"
   ]
  },
  {
   "attachments": {},
   "cell_type": "markdown",
   "metadata": {},
   "source": [
    "Then, we can get the new CPE-CVE and CVE-CWE triples from Aug 4, 2021 to Nov 1, 2022. We will use the new triples to form the new test set, which will be used for evaluating the prediction capability. If the triples in the new test set are assigned high scores by the trained embedding model, then we know that the model can predict future triples well. Note that, in the test set, we only include triples that involve entities already existing by Aug 2021 (the head and tail entities of the triple must be already included in the Aug 2021 knowledge graph).\n",
    "\n",
    "The following code blocks generate a test set `new_test_cve2cwe` of new CVE-CWE triples from Aug 2021 to Nov 2022, and save it as a local file."
   ]
  },
  {
   "cell_type": "code",
   "execution_count": 31,
   "metadata": {},
   "outputs": [],
   "source": [
    "new_cve2cwe = []\n",
    "\n",
    "li1 = []\n",
    "li2 = []\n",
    "for l in kg_cve2cwe_nov2022:\n",
    "    li1.append(l[0]+','+l[1]+','+l[2])\n",
    "for l in kg_cve2cwe:\n",
    "    li2.append(l[0]+','+l[1]+','+l[2])\n",
    "\n",
    "new_tmp = list(set(li1) - set(li2))\n",
    "for s in new_tmp:\n",
    "    new_cve2cwe.append(s.split(','))\n",
    "\n",
    "new_cve2cwe_df = pd.DataFrame(new_cve2cwe,columns=[\"subject\", \"predicate\", \"object\"]).sort_values(by=['subject'], ascending=True).reset_index(drop=True)"
   ]
  },
  {
   "cell_type": "code",
   "execution_count": 36,
   "metadata": {},
   "outputs": [],
   "source": [
    "# keep only the relations between existing nodes\n",
    "new_test_cve2cwe = []\n",
    "\n",
    "kg_cve2cwe_df = pd.DataFrame(kg_cve2cwe, columns=[\"subject\", \"predicate\", \"object\"])\n",
    "for i, r in new_cve2cwe_df.iterrows():\n",
    "    if r['subject'] in connected_cvelist:\n",
    "        new_test_cve2cwe.append(r)"
   ]
  },
  {
   "cell_type": "code",
   "execution_count": 37,
   "metadata": {},
   "outputs": [],
   "source": [
    "# save new_test_cve2cwe locally\n",
    "new_test_cve2cwe_df = pd.DataFrame(new_test_cve2cwe, columns=[\"subject\", \"predicate\", \"object\"])\n",
    "new_test_cve2cwe_df.to_csv('./saved/new_test_cve2cwe_aug2021_nov2022.csv', index=False)"
   ]
  },
  {
   "attachments": {},
   "cell_type": "markdown",
   "metadata": {},
   "source": [
    "Similarly, the following code blocks generate a test set `new_test_cpe2cve` of new CPE-CVE triples from Aug 2021 to Nov 2022."
   ]
  },
  {
   "cell_type": "code",
   "execution_count": 38,
   "metadata": {},
   "outputs": [],
   "source": [
    "new_cpe2cve = []\n",
    "\n",
    "li1 = []\n",
    "li2 = []\n",
    "for l in kg_cpe2cve_nov2022:\n",
    "    li1.append(l[0]+','+l[1]+','+l[2])\n",
    "for l in kg_cpe2cve:\n",
    "    li2.append(l[0]+','+l[1]+','+l[2])\n",
    "\n",
    "new_tmp = list(set(li1) - set(li2))\n",
    "for s in new_tmp:\n",
    "    new_cpe2cve.append(s.split(','))\n",
    "\n",
    "new_cpe2cve_df = pd.DataFrame(new_cpe2cve, columns=[\"subject\", \"predicate\", \"object\"]).sort_values(by=['subject'], ascending=True).reset_index(drop=True)"
   ]
  },
  {
   "cell_type": "code",
   "execution_count": 39,
   "metadata": {},
   "outputs": [],
   "source": [
    "# keep only the relations between existing nodes\n",
    "new_test_cpe2cve = []\n",
    "\n",
    "kg_cpe2cve_df = pd.DataFrame(kg_cpe2cve, columns=[\"subject\", \"predicate\", \"object\"])\n",
    "for i, r in new_cpe2cve_df.iterrows():\n",
    "    if r['subject'] in connected_cpelist:\n",
    "        if r['object'] in connected_cvelist:\n",
    "            new_test_cpe2cve.append(r)"
   ]
  },
  {
   "cell_type": "code",
   "execution_count": 40,
   "metadata": {},
   "outputs": [],
   "source": [
    "# save new_test_cpe2cve locally\n",
    "new_test_cpe2cve_df = pd.DataFrame(new_test_cpe2cve, columns=[\"subject\", \"predicate\", \"object\"])\n",
    "new_test_cpe2cve_df.to_csv('./saved/new_test_cpe2cve_aug2021_nov2022.csv', index=False)"
   ]
  },
  {
   "attachments": {},
   "cell_type": "markdown",
   "metadata": {},
   "source": [
    "The saved test sets can be loaded directly next time."
   ]
  },
  {
   "cell_type": "code",
   "execution_count": 21,
   "metadata": {},
   "outputs": [],
   "source": [
    "# load new_test_cve2cwe\n",
    "new_test_cve2cwe= []\n",
    "\n",
    "new_test_cve2cwe_df = pd.read_csv(\"./saved/new_test_cve2cwe_aug2021_nov2022.csv\")\n",
    "for i,r in new_test_cve2cwe_df.iterrows():\n",
    "    new_test_cve2cwe.append([r['subject'],r['predicate'],r['object']])"
   ]
  },
  {
   "cell_type": "code",
   "execution_count": 22,
   "metadata": {},
   "outputs": [],
   "source": [
    "# load new_test_cpe2cve\n",
    "new_test_cpe2cve = []\n",
    "\n",
    "new_test_cpe2cve_df = pd.read_csv(\"./saved/new_test_cpe2cve_aug2021_nov2022.csv\")\n",
    "for i,r in new_test_cpe2cve_df.iterrows():\n",
    "    new_test_cpe2cve.append([r['subject'],r['predicate'],r['object']])"
   ]
  },
  {
   "attachments": {},
   "cell_type": "markdown",
   "metadata": {},
   "source": [
    "This time, we use all the triples on Aug 4, 2021 for training the TransE embedding model."
   ]
  },
  {
   "cell_type": "code",
   "execution_count": 75,
   "metadata": {},
   "outputs": [
    {
     "name": "stderr",
     "output_type": "stream",
     "text": [
      "Average TransE Loss:   0.191692: 100%|██████████| 300/300 [05:17<00:00,  1.06s/epoch]\n"
     ]
    }
   ],
   "source": [
    "import tensorflow as tf\n",
    "tf.logging.set_verbosity(tf.logging.ERROR)\n",
    "\n",
    "model_transe.fit(np.concatenate((X_train, X_valid)))"
   ]
  },
  {
   "cell_type": "code",
   "execution_count": 76,
   "metadata": {},
   "outputs": [],
   "source": [
    "# save trained embedding model locally\n",
    "from ampligraph.latent_features import save_model\n",
    "save_model(model_transe, './saved/kg_all_model_transe_aug2021.pkl')"
   ]
  },
  {
   "cell_type": "code",
   "execution_count": 77,
   "metadata": {},
   "outputs": [],
   "source": [
    "# load trained embedding model\n",
    "from ampligraph.latent_features import restore_model\n",
    "model_transe = restore_model('./saved/kg_all_model_transe_aug2021.pkl')"
   ]
  },
  {
   "attachments": {},
   "cell_type": "markdown",
   "metadata": {},
   "source": [
    "Next, we are ready to test how well the embedded knowledge graph can predict the triples in `new_test_cpe2cve` and `new_test_cve2cwe`, using MR, MRR, and Hits@N scores.\n",
    "\n",
    "This time, we have more positive triples, so we need to update the filter triples first."
   ]
  },
  {
   "cell_type": "code",
   "execution_count": 23,
   "metadata": {},
   "outputs": [],
   "source": [
    "filter_triples_new = np.concatenate((X_train, X_valid, np.array(new_test_cpe2cve + new_test_cve2cwe)))"
   ]
  },
  {
   "attachments": {},
   "cell_type": "markdown",
   "metadata": {},
   "source": [
    "We can get the embedding metrics for the new 11,971 CPE-CVE triples."
   ]
  },
  {
   "cell_type": "code",
   "execution_count": 80,
   "metadata": {},
   "outputs": [
    {
     "name": "stderr",
     "output_type": "stream",
     "text": [
      "100%|██████████| 11971/11971 [00:59<00:00, 200.03it/s]\n"
     ]
    }
   ],
   "source": [
    "from ampligraph.evaluation import evaluate_performance\n",
    "\n",
    "ranks = evaluate_performance(np.array(new_test_cpe2cve),\n",
    "                             model=model_transe,\n",
    "                             filter_triples=filter_triples_new,\n",
    "                             entities_subset=connected_cpelist,\n",
    "                             corrupt_side='s',\n",
    "                             verbose=True)"
   ]
  },
  {
   "cell_type": "code",
   "execution_count": 81,
   "metadata": {},
   "outputs": [
    {
     "name": "stdout",
     "output_type": "stream",
     "text": [
      "MRR: 0.189\n",
      "MR: 1416.827\n",
      "Hits@20: 0.442\n",
      "Hits@10: 0.349\n",
      "Hits@3: 0.211\n",
      "Hits@1: 0.111\n"
     ]
    }
   ],
   "source": [
    "from ampligraph.evaluation import mr_score, mrr_score, hits_at_n_score\n",
    "\n",
    "mr = mr_score(ranks)\n",
    "mrr = mrr_score(ranks)\n",
    "\n",
    "print(\"MRR: %.3f\" % (mrr))\n",
    "print(\"MR: %.3f\" % (mr))\n",
    "\n",
    "hits_20 = hits_at_n_score(ranks, n=20)\n",
    "print(\"Hits@20: %.3f\" % (hits_20))\n",
    "hits_10 = hits_at_n_score(ranks, n=10)\n",
    "print(\"Hits@10: %.3f\" % (hits_10))\n",
    "hits_3 = hits_at_n_score(ranks, n=3)\n",
    "print(\"Hits@3: %.3f\" % (hits_3))\n",
    "hits_1 = hits_at_n_score(ranks, n=1)\n",
    "print(\"Hits@1: %.3f\" % (hits_1))"
   ]
  },
  {
   "attachments": {},
   "cell_type": "markdown",
   "metadata": {},
   "source": [
    "Similarly, we can get the metrics for the new 1,652 CVE-CWE triples."
   ]
  },
  {
   "cell_type": "code",
   "execution_count": 78,
   "metadata": {},
   "outputs": [
    {
     "name": "stderr",
     "output_type": "stream",
     "text": [
      "d:\\Softwares\\Anaconda\\envs\\ampligraph\\lib\\site-packages\\ampligraph\\latent_features\\models\\EmbeddingModel.py:1329: FutureWarning: elementwise comparison failed; returning scalar instead, but in the future will perform elementwise comparison\n",
      "  if corruption_entities == 'all':\n",
      "100%|██████████| 1652/1652 [00:10<00:00, 161.60it/s]\n"
     ]
    }
   ],
   "source": [
    "ranks = evaluate_performance(np.array(new_test_cve2cwe),\n",
    "                             model=model_transe,\n",
    "                             filter_triples=filter_triples_new,\n",
    "                             entities_subset=cwe_list,\n",
    "                             corrupt_side='o',\n",
    "                             verbose=True)"
   ]
  },
  {
   "cell_type": "code",
   "execution_count": 79,
   "metadata": {},
   "outputs": [
    {
     "name": "stdout",
     "output_type": "stream",
     "text": [
      "MRR: 0.173\n",
      "MR: 39.125\n",
      "Hits@20: 0.544\n",
      "Hits@10: 0.389\n",
      "Hits@3: 0.176\n",
      "Hits@1: 0.070\n"
     ]
    }
   ],
   "source": [
    "mr = mr_score(ranks)\n",
    "mrr = mrr_score(ranks)\n",
    "\n",
    "print(\"MRR: %.3f\" % (mrr))\n",
    "print(\"MR: %.3f\" % (mr))\n",
    "\n",
    "hits_20 = hits_at_n_score(ranks, n=20)\n",
    "print(\"Hits@20: %.3f\" % (hits_20))\n",
    "hits_10 = hits_at_n_score(ranks, n=10)\n",
    "print(\"Hits@10: %.3f\" % (hits_10))\n",
    "hits_3 = hits_at_n_score(ranks, n=3)\n",
    "print(\"Hits@3: %.3f\" % (hits_3))\n",
    "hits_1 = hits_at_n_score(ranks, n=1)\n",
    "print(\"Hits@1: %.3f\" % (hits_1))"
   ]
  },
  {
   "attachments": {},
   "cell_type": "markdown",
   "metadata": {},
   "source": [
    "The open-world metrics are worse than the closed-world metrics in the last section. Still, they suggest that we can make useful predictions at some level.\n",
    "\n",
    "The embedding model will assign a score to each triple, and we can compute the scores for the new triples."
   ]
  },
  {
   "cell_type": "code",
   "execution_count": 82,
   "metadata": {},
   "outputs": [],
   "source": [
    "from scipy.special import expit\n",
    "\n",
    "new_test = np.array(new_test_cpe2cve + new_test_cve2cwe)\n",
    "scores = model_transe.predict(new_test)"
   ]
  },
  {
   "attachments": {},
   "cell_type": "markdown",
   "metadata": {},
   "source": [
    "Note that the important thing is that the positive triples are ranked/ordered before negative triples, so the values of the scores do not matter (in our example they are pretty small), as long as the scores of positive triples are higher than negative ones.\n",
    "\n",
    "## Predict new triples: precision, recall, F1-score\n",
    "\n",
    "Other than the typical knowledge-graph-related metrics, we can also get prediction-related metrics, including precision, recall, and F1-score.\n",
    "\n",
    "The triples in `new_test_cpe2cve` and `new_test_cve2cwe` will be the positive triple in our test. To compute precision and recall, we also need to manually generate negative triples to compute the rates of True Positive, True Negative, False Positive, and False Negative.\n",
    "\n",
    "For each CVE shown in the new CPE-CVE triples, we generate 50 negative triples by randomly selecting CPEs (positive triples will be filtered out), stored in `neg_test_cpe2cve`."
   ]
  },
  {
   "cell_type": "code",
   "execution_count": 50,
   "metadata": {},
   "outputs": [],
   "source": [
    "import random\n",
    "\n",
    "neg_test_cpe2cve = []\n",
    "\n",
    "dict_cpe2cve = {} # cve as key, replace cpe\n",
    "dict_cve2cpe = {} # cpe as key, replace cve\n",
    "\n",
    "cpe2cve_alltime = new_test_cpe2cve + kg_cpe2cve\n",
    "\n",
    "for i in range(len(cpe2cve_alltime)):\n",
    "    if cpe2cve_alltime[i][2] not in dict_cpe2cve.keys():\n",
    "        dict_cpe2cve[cpe2cve_alltime[i][2]] = []\n",
    "    dict_cpe2cve[cpe2cve_alltime[i][2]].append(cpe2cve_alltime[i][0])\n",
    "\n",
    "    if cpe2cve_alltime[i][0] not in dict_cve2cpe.keys():\n",
    "        dict_cve2cpe[cpe2cve_alltime[i][0]] = []\n",
    "    dict_cve2cpe[cpe2cve_alltime[i][0]].append(cpe2cve_alltime[i][2])\n",
    "\n",
    "test_cves = []\n",
    "for i in range(len(new_test_cpe2cve)):\n",
    "    if new_test_cpe2cve[i][2] not in test_cves:\n",
    "        test_cves.append(new_test_cpe2cve[i][2])\n",
    "\n",
    "for v in test_cves:\n",
    "    rnd_lst = []\n",
    "    while len(rnd_lst) < 50:\n",
    "        rnd_cpe = random.choice(connected_cpelist)\n",
    "        if rnd_cpe not in dict_cpe2cve[v]:\n",
    "            rnd_lst.append(rnd_cpe)\n",
    "    for p in rnd_lst:\n",
    "        neg_test_cpe2cve.append([p,'MatchingCVE',v])"
   ]
  },
  {
   "attachments": {},
   "cell_type": "markdown",
   "metadata": {},
   "source": [
    "Save the generated negative triples for reproducibility, which can be read from the saved file next time."
   ]
  },
  {
   "cell_type": "code",
   "execution_count": 51,
   "metadata": {},
   "outputs": [],
   "source": [
    "# save generated negative CPE-CVE triples locally\n",
    "neg_test_cpe2cve_df = pd.DataFrame(neg_test_cpe2cve, columns=[\"subject\", \"predicate\", \"object\"])\n",
    "neg_test_cpe2cve_df.to_csv('./saved/neg_test_cpe2cve.csv', index=False)"
   ]
  },
  {
   "cell_type": "code",
   "execution_count": 24,
   "metadata": {},
   "outputs": [],
   "source": [
    "# load generated negative CPE-CVE triples\n",
    "neg_test_cpe2cve = []\n",
    "\n",
    "neg_test_cpe2cve_df = pd.read_csv(\"./saved/neg_test_cpe2cve.csv\")\n",
    "for i,r in neg_test_cpe2cve_df.iterrows():\n",
    "    neg_test_cpe2cve.append([r['subject'],r['predicate'],r['object']])"
   ]
  },
  {
   "attachments": {},
   "cell_type": "markdown",
   "metadata": {},
   "source": [
    "We use a numpy array `is_pos` to mark the positivity or negativitiy of the triples (new triples and generated negative triples)."
   ]
  },
  {
   "cell_type": "code",
   "execution_count": 25,
   "metadata": {},
   "outputs": [],
   "source": [
    "is_pos = []\n",
    "\n",
    "for i in range(len(new_test_cpe2cve)):\n",
    "    is_pos.append(1)\n",
    "for i in range(len(neg_test_cpe2cve)):\n",
    "    is_pos.append(0)\n",
    "\n",
    "is_pos = np.asarray(is_pos)"
   ]
  },
  {
   "attachments": {},
   "cell_type": "markdown",
   "metadata": {},
   "source": [
    "The scores of the postive and negative triples can be then computed."
   ]
  },
  {
   "cell_type": "code",
   "execution_count": 83,
   "metadata": {},
   "outputs": [],
   "source": [
    "test = np.array(new_test_cpe2cve + neg_test_cpe2cve)\n",
    "scores = model_transe.predict(test)"
   ]
  },
  {
   "attachments": {},
   "cell_type": "markdown",
   "metadata": {},
   "source": [
    "For the new triples and generated negative triples, we can compute their probabilities of positivity predicted by the embedded knowledge graph. The probabilities are the scores normalized scores (assigned by the embedding model). \n",
    "\n",
    "There exist different ways to normalize the scores, and different embedding models ususally need different normalization functions. For example, if DistMult or ComplEx model is used for embedding, one choice is to use $expit()$ function.\n",
    "\n",
    "For the TransE model we are using, min-max normalization can give us well distributed probabilities."
   ]
  },
  {
   "cell_type": "code",
   "execution_count": 84,
   "metadata": {},
   "outputs": [],
   "source": [
    "import math\n",
    "\n",
    "probs = []\n",
    "\n",
    "## standard min-max normalization\n",
    "# min_score, max_score = min(scores), max(scores)\n",
    "\n",
    "## adjusted normalization such that the probabilities are strictly between 0 and 1\n",
    "min_score, max_score = math.floor(min(scores)), math.ceil(max(scores))\n",
    "\n",
    "for s in scores:\n",
    "    probs.append(max(0, (s-min_score)/(max_score-min_score)))\n",
    "\n",
    "## for ComplEx model, use the following code instead\n",
    "# from scipy.special import expit\n",
    "# probs = expit(scores)"
   ]
  },
  {
   "attachments": {},
   "cell_type": "markdown",
   "metadata": {},
   "source": [
    "We can then save the prediction results in a `.csv` file. The triples are sorted by predicted probability. We find that most of postive triples are ranked before negative triples."
   ]
  },
  {
   "cell_type": "code",
   "execution_count": 85,
   "metadata": {},
   "outputs": [],
   "source": [
    "pred = pd.DataFrame(list(zip([' '.join(x) for x in test],\n",
    "                      np.squeeze(scores),\n",
    "                      np.squeeze(probs),\n",
    "                      np.squeeze(is_pos))),\n",
    "             columns=['statement', 'score', 'prob', 'is_positive']).sort_values('score', ascending=False)\n",
    "\n",
    "pred.to_csv('./saved/predict_cpe2cve_neg50.csv', index=False)"
   ]
  },
  {
   "attachments": {},
   "cell_type": "markdown",
   "metadata": {},
   "source": [
    "Next, with the predicted probabilities of the triples, we can draw precision-recall curve. The curve shows how the precision and recall change as the threshold for positivity changes."
   ]
  },
  {
   "cell_type": "code",
   "execution_count": 86,
   "metadata": {},
   "outputs": [
    {
     "name": "stderr",
     "output_type": "stream",
     "text": [
      "d:\\Softwares\\Anaconda\\envs\\ampligraph\\lib\\site-packages\\ipykernel_launcher.py:15: MatplotlibDeprecationWarning: The 'b' parameter of grid() has been renamed 'visible' since Matplotlib 3.5; support for the old name will be dropped two minor releases later.\n",
      "  from ipykernel import kernelapp as app\n",
      "d:\\Softwares\\Anaconda\\envs\\ampligraph\\lib\\site-packages\\ipykernel_launcher.py:17: MatplotlibDeprecationWarning: The 'b' parameter of grid() has been renamed 'visible' since Matplotlib 3.5; support for the old name will be dropped two minor releases later.\n",
      "  app.launch_new_instance()\n"
     ]
    },
    {
     "data": {
      "image/png": "[encoded data removed]",
      "text/plain": [
       "<Figure size 640x480 with 1 Axes>"
      ]
     },
     "metadata": {},
     "output_type": "display_data"
    }
   ],
   "source": [
    "from sklearn.metrics import precision_recall_curve\n",
    "import matplotlib.pyplot as plt\n",
    "\n",
    "precision, recall, thresholds = precision_recall_curve(is_pos, probs)\n",
    "\n",
    "fig, ax = plt.subplots()\n",
    "ax.plot(recall[50:-10], precision[50:-10])\n",
    "plt.xlim([0,1])\n",
    "plt.ylim([0,1])\n",
    "plt.xticks(fontfamily = 'Times New Roman', fontsize=18)\n",
    "plt.yticks(fontfamily = 'Times New Roman', fontsize=18)\n",
    "plt.ylabel('Precision', fontfamily = 'Times New Roman', fontsize = 18)\n",
    "plt.xlabel('Recall', fontfamily = 'Times New Roman', fontsize = 18)\n",
    "\n",
    "plt.grid(b=True, which='major', color='#999999', linestyle='-')\n",
    "plt.minorticks_on()\n",
    "plt.grid(b=True, which='minor', color='#999999', linestyle='-', alpha=0.2)\n",
    "\n",
    "plt.savefig(\"./saved/prc_cpe2cve_neg50.pdf\",bbox_inches =\"tight\", pad_inches = 0.15)\n",
    "plt.show()"
   ]
  },
  {
   "attachments": {},
   "cell_type": "markdown",
   "metadata": {},
   "source": [
    "Given the precision-recall curve, we can compute the best F1-score for our example."
   ]
  },
  {
   "cell_type": "code",
   "execution_count": 87,
   "metadata": {},
   "outputs": [
    {
     "name": "stdout",
     "output_type": "stream",
     "text": [
      "Best threshold:  0.5949201583862305\n",
      "Precision and recall:  0.7506967803940413 0.6524935260212179\n",
      "Best F1-Score:  0.6981587415087593\n"
     ]
    }
   ],
   "source": [
    "numerator = 2 * recall * precision\n",
    "denom = recall + precision\n",
    "f1_scores = np.divide(numerator, denom, out=np.zeros_like(denom), where=(denom!=0))\n",
    "\n",
    "print('Best threshold: ', thresholds[np.argmax(f1_scores)])\n",
    "print('Precision and recall: ', precision[np.argmax(f1_scores)], recall[np.argmax(f1_scores)])\n",
    "print('Best F1-Score: ', np.max(f1_scores))"
   ]
  },
  {
   "attachments": {},
   "cell_type": "markdown",
   "metadata": {},
   "source": [
    "In this example, when we set the probability threshold for positivity as 0.595, we get the optimal F1-score of 0.698, with precision of 0.751 and recall of 0.652.\n",
    "\n",
    "The precision-recall curve becomes worse as we include more negative triples in the test set.\n",
    "\n",
    "Similary, we can plot the precision-recall curve for CVE-CWE triples. Note that the number of candidate CWEs (about 900) for generating negative triples is significantly smaller than the number of candidate CPEs (about 28,000). To make the curve look nice, we can try a smaller number of negative triples (e.g., 10 negative CVE-CWE triples for each CVE in positive ones)."
   ]
  }
 ],
 "metadata": {
  "kernelspec": {
   "display_name": "Python 3 (ipykernel)",
   "language": "python",
   "name": "python3"
  },
  "language_info": {
   "codemirror_mode": {
    "name": "ipython",
    "version": 3
   },
   "file_extension": ".py",
   "mimetype": "text/x-python",
   "name": "python",
   "nbconvert_exporter": "python",
   "pygments_lexer": "ipython3",
   "version": "3.7.16"
  },
  "varInspector": {
   "cols": {
    "lenName": 16,
    "lenType": 16,
    "lenVar": 40
   },
   "kernels_config": {
    "python": {
     "delete_cmd_postfix": "",
     "delete_cmd_prefix": "del ",
     "library": "var_list.py",
     "varRefreshCmd": "print(var_dic_list())"
    },
    "r": {
     "delete_cmd_postfix": ") ",
     "delete_cmd_prefix": "rm(",
     "library": "var_list.r",
     "varRefreshCmd": "cat(var_dic_list()) "
    }
   },
   "types_to_exclude": [
    "module",
    "function",
    "builtin_function_or_method",
    "instance",
    "_Feature"
   ],
   "window_display": false
  }
 },
 "nbformat": 4,
 "nbformat_minor": 2
}
